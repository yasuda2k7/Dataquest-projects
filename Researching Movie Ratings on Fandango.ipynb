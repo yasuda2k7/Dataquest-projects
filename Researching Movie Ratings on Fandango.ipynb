{
 "cells": [
  {
   "cell_type": "markdown",
   "metadata": {},
   "source": [
    "# Researching Movie Ratings on Fandango\n",
    "\n",
    "Fandango is a website that displays movie ratings on a 5-star scale, where 0 is the minimum rating and 5 is the maximum rating.  Back in 2015, a data journalist named Walk Hickey found [strong evidence](https://fivethirtyeight.com/features/fandango-movies-ratings/) suggesting that Fandango's movie rating system was biased and dishonest.  He noticed significant discrepancies between the ratings displayed on the webpages and the actual ratings in the HTMLs of the webpages.  More specifically, he found:\n",
    "\n",
    "* The actual rating was almost always rounded up to the nearest *half*-star.\n",
    "    - For example, a 4.1-rated movie would be rounded up to 4.5 instead of 4.\n",
    "* Rounding up to the nearest *whole* star was done to 8% of ratings.\n",
    "    - For example, a 4.5-rated movie would be rounded up to 5 stars instead of remaining at 4.5.\n",
    "    \n",
    "These adjustments suggested that Fandago inflated movie star ratings under the hood, resulting in higher ratings on the site than what they actually were.  Fandago claimed that this biased rounding was due to a bug in their system and promised to fix it immediately.  Presumably the error has been corrected, but it can no longer be confirmed since the actual ratings are no longer in the HTML pages.\n",
    "\n",
    "**Objective:** In this project, we'll analyze more recent movie ratings to determine whether Fandango's system has changed after Hickey's findings.\n",
    "\n",
    "## Exploring the data\n",
    "\n",
    "We first read two datasets into pandas dataframes, view information about them briefly, and create copies with only the columns of interest.  One dataset contains a sample of movie ratings *prior* to Hickey's analysis, and the other dataset contains a sample of movie ratings *after* Hickey's analysis (to determine if Fandango changed their rating system)."
   ]
  },
  {
   "cell_type": "code",
   "execution_count": 1,
   "metadata": {},
   "outputs": [],
   "source": [
    "# Read in the datasets\n",
    "import pandas as pd\n",
    "\n",
    "prior_ratings = pd.read_csv(\"fandango_score_comparison.csv\")\n",
    "current_ratings = pd.read_csv(\"movie_ratings_16_17.csv\")"
   ]
  },
  {
   "cell_type": "code",
   "execution_count": 2,
   "metadata": {},
   "outputs": [
    {
     "name": "stdout",
     "output_type": "stream",
     "text": [
      "<class 'pandas.core.frame.DataFrame'>\n",
      "RangeIndex: 146 entries, 0 to 145\n",
      "Data columns (total 22 columns):\n",
      " #   Column                      Non-Null Count  Dtype  \n",
      "---  ------                      --------------  -----  \n",
      " 0   FILM                        146 non-null    object \n",
      " 1   RottenTomatoes              146 non-null    int64  \n",
      " 2   RottenTomatoes_User         146 non-null    int64  \n",
      " 3   Metacritic                  146 non-null    int64  \n",
      " 4   Metacritic_User             146 non-null    float64\n",
      " 5   IMDB                        146 non-null    float64\n",
      " 6   Fandango_Stars              146 non-null    float64\n",
      " 7   Fandango_Ratingvalue        146 non-null    float64\n",
      " 8   RT_norm                     146 non-null    float64\n",
      " 9   RT_user_norm                146 non-null    float64\n",
      " 10  Metacritic_norm             146 non-null    float64\n",
      " 11  Metacritic_user_nom         146 non-null    float64\n",
      " 12  IMDB_norm                   146 non-null    float64\n",
      " 13  RT_norm_round               146 non-null    float64\n",
      " 14  RT_user_norm_round          146 non-null    float64\n",
      " 15  Metacritic_norm_round       146 non-null    float64\n",
      " 16  Metacritic_user_norm_round  146 non-null    float64\n",
      " 17  IMDB_norm_round             146 non-null    float64\n",
      " 18  Metacritic_user_vote_count  146 non-null    int64  \n",
      " 19  IMDB_user_vote_count        146 non-null    int64  \n",
      " 20  Fandango_votes              146 non-null    int64  \n",
      " 21  Fandango_Difference         146 non-null    float64\n",
      "dtypes: float64(15), int64(6), object(1)\n",
      "memory usage: 25.2+ KB\n"
     ]
    }
   ],
   "source": [
    "# Print information on the 'prior_ratings' dataset\n",
    "prior_ratings.info()"
   ]
  },
  {
   "cell_type": "code",
   "execution_count": 3,
   "metadata": {},
   "outputs": [
    {
     "name": "stdout",
     "output_type": "stream",
     "text": [
      "<class 'pandas.core.frame.DataFrame'>\n",
      "RangeIndex: 214 entries, 0 to 213\n",
      "Data columns (total 15 columns):\n",
      " #   Column        Non-Null Count  Dtype  \n",
      "---  ------        --------------  -----  \n",
      " 0   movie         214 non-null    object \n",
      " 1   year          214 non-null    int64  \n",
      " 2   metascore     214 non-null    int64  \n",
      " 3   imdb          214 non-null    float64\n",
      " 4   tmeter        214 non-null    int64  \n",
      " 5   audience      214 non-null    int64  \n",
      " 6   fandango      214 non-null    float64\n",
      " 7   n_metascore   214 non-null    float64\n",
      " 8   n_imdb        214 non-null    float64\n",
      " 9   n_tmeter      214 non-null    float64\n",
      " 10  n_audience    214 non-null    float64\n",
      " 11  nr_metascore  214 non-null    float64\n",
      " 12  nr_imdb       214 non-null    float64\n",
      " 13  nr_tmeter     214 non-null    float64\n",
      " 14  nr_audience   214 non-null    float64\n",
      "dtypes: float64(10), int64(4), object(1)\n",
      "memory usage: 25.2+ KB\n"
     ]
    }
   ],
   "source": [
    "# Print information on the 'current_ratings' dataset\n",
    "current_ratings.info()"
   ]
  },
  {
   "cell_type": "code",
   "execution_count": 4,
   "metadata": {},
   "outputs": [],
   "source": [
    "# Reduce the number of columns to those necessary for this analysis\n",
    "prior_ratings_trunc = prior_ratings[[\"FILM\", \"Fandango_Stars\", \"Fandango_Ratingvalue\",\n",
    "                                     \"Fandango_votes\", \"Fandango_Difference\"]].copy()\n",
    "current_ratings_trunc = current_ratings[[\"movie\", \"year\", \"fandango\"]].copy()"
   ]
  },
  {
   "cell_type": "markdown",
   "metadata": {},
   "source": [
    "## Review of population and samples\n",
    "\n",
    "We're interested in *all* movie ratings on Fandango's website, regardless of the year it was released, which would define our population.  The datasets we have represent samples of movies *before* and *after* Hickey's analysis.  This is great, because we want the ability to compare results to see if Fandango made any rating system changes to between time periods.  \n",
    "\n",
    "It is important for samples to be *representative* of the population, otherwise the sampling error could be significantly large.  Such a sampling error may result in an analysis that does not generalize well enough, forming invalid conclusions.  From the `README.md` sections of the data repositories, we find that the samples were not chosen randomly and instead are based on criteria.\n",
    "\n",
    "Sampling criteria for the [first](https://github.com/fivethirtyeight/data/tree/master/fandango) dataset include:\n",
    "* Movie had 30+ ratings (at the time of sampling)\n",
    "* Movie had tickets for sale in 2015\n",
    "\n",
    "Sampling criteria for the [second](https://github.com/mircealex/Movie_ratings_2016_17) dataset include:\n",
    "* Movie was released in 2016 or later\n",
    "* Movie had \"considerable\" votes and reviews\n",
    "\n",
    "These sampling criteria result in samples that are subject to temporal trends and may not be *representative* of our population.  Rather than collecting new data, we will simply place a scope limitation on the objective, which should remain a good proxy for our initial objective.\n",
    "\n",
    "## Changing our objective (slightly)\n",
    "\n",
    "**Objective:** In this project, we'll analyze more recent **popular** movie ratings (defined as 30+ movie ratings) to determine whether Fandango's system has changed after Hickey's findings.\n",
    "\n",
    "Next, we check that our datasets represent the correct information and clean them as needed."
   ]
  },
  {
   "cell_type": "code",
   "execution_count": 5,
   "metadata": {},
   "outputs": [
    {
     "data": {
      "text/plain": [
       "0"
      ]
     },
     "execution_count": 5,
     "metadata": {},
     "output_type": "execute_result"
    }
   ],
   "source": [
    "# Check for any movies with non-credible number of ratings\n",
    "sum(prior_ratings_trunc[\"Fandango_votes\"] < 30)"
   ]
  },
  {
   "cell_type": "code",
   "execution_count": 6,
   "metadata": {},
   "outputs": [
    {
     "data": {
      "text/plain": [
       "2015    129\n",
       "2014     17\n",
       "Name: Year, dtype: int64"
      ]
     },
     "execution_count": 6,
     "metadata": {},
     "output_type": "execute_result"
    }
   ],
   "source": [
    "# Check the years of movies released in first dataset\n",
    "prior_ratings_trunc[\"Year\"] = prior_ratings_trunc[\"FILM\"].str[-5:-1]\n",
    "prior_ratings_trunc[\"Year\"].value_counts()"
   ]
  },
  {
   "cell_type": "code",
   "execution_count": 7,
   "metadata": {},
   "outputs": [
    {
     "data": {
      "text/plain": [
       "2015    129\n",
       "Name: Year, dtype: int64"
      ]
     },
     "execution_count": 7,
     "metadata": {},
     "output_type": "execute_result"
    }
   ],
   "source": [
    "# Remove movies that were released outside of 2015\n",
    "prior_ratings_trunc_2015 = prior_ratings_trunc[prior_ratings_trunc[\"Year\"] == \"2015\"].copy()\n",
    "prior_ratings_trunc_2015[\"Year\"].value_counts()"
   ]
  },
  {
   "cell_type": "code",
   "execution_count": 8,
   "metadata": {},
   "outputs": [
    {
     "data": {
      "text/plain": [
       "2016    191\n",
       "2017     23\n",
       "Name: year, dtype: int64"
      ]
     },
     "execution_count": 8,
     "metadata": {},
     "output_type": "execute_result"
    }
   ],
   "source": [
    "# Check the years of movies released in second dataset\n",
    "current_ratings_trunc[\"year\"].value_counts()"
   ]
  },
  {
   "cell_type": "code",
   "execution_count": 9,
   "metadata": {},
   "outputs": [
    {
     "data": {
      "text/plain": [
       "2016    191\n",
       "Name: year, dtype: int64"
      ]
     },
     "execution_count": 9,
     "metadata": {},
     "output_type": "execute_result"
    }
   ],
   "source": [
    "# Remove movies that were released outside of 2016\n",
    "current_ratings_trunc_2016 = current_ratings_trunc[current_ratings_trunc[\"year\"] == 2016].copy()\n",
    "current_ratings_trunc_2016[\"year\"].value_counts()"
   ]
  },
  {
   "cell_type": "markdown",
   "metadata": {},
   "source": [
    "## Analysis of the two distributions (kernel density plots)\n",
    "\n",
    "Now that our data is clean and correct, we can start analyzing it.  First, we create a graphical view of the distributions using overlapping kernel density plots."
   ]
  },
  {
   "cell_type": "code",
   "execution_count": 10,
   "metadata": {},
   "outputs": [
    {
     "data": {
      "text/plain": [
       "Text(0.5, 0, 'Stars')"
      ]
     },
     "execution_count": 10,
     "metadata": {},
     "output_type": "execute_result"
    },
    {
     "data": {
      "image/png": "[encoded data removed]",
      "text/plain": [
       "<Figure size 576x396 with 1 Axes>"
      ]
     },
     "metadata": {
      "needs_background": "light"
     },
     "output_type": "display_data"
    }
   ],
   "source": [
    "# Produce overlapping kernel density plots of both distributions of movie ratings\n",
    "import matplotlib.pyplot as plt\n",
    "%matplotlib inline\n",
    "\n",
    "prior_ratings_trunc_2015[\"Fandango_Stars\"].plot.kde(label = \"2015\", legend = True, figsize = (8, 5.5))\n",
    "current_ratings_trunc_2016[\"fandango\"].plot.kde(label = \"2016\", legend = True)\n",
    "\n",
    "plt.xlabel(\"Stars\")"
   ]
  },
  {
   "cell_type": "markdown",
   "metadata": {},
   "source": [
    "It can easily be seen in the distribution plots above that the movie ratings generally decreased in 2016 (from 2015).\n",
    "\n",
    "## Frequency distributions of Fandango movie ratings\n",
    "\n",
    "We now take a closer look at the frequency distributions of movie ratings (0-5) on Fandango."
   ]
  },
  {
   "cell_type": "code",
   "execution_count": 11,
   "metadata": {},
   "outputs": [
    {
     "data": {
      "text/plain": [
       "3.0    0.085271\n",
       "3.5    0.178295\n",
       "4.0    0.286822\n",
       "4.5    0.379845\n",
       "5.0    0.069767\n",
       "Name: Fandango_Stars, dtype: float64"
      ]
     },
     "execution_count": 11,
     "metadata": {},
     "output_type": "execute_result"
    }
   ],
   "source": [
    "# Generate frequency distribution of first dataset as percentages\n",
    "prior_ratings_trunc_2015[\"Fandango_Stars\"].value_counts(normalize = True).sort_index()"
   ]
  },
  {
   "cell_type": "code",
   "execution_count": 12,
   "metadata": {},
   "outputs": [
    {
     "data": {
      "text/plain": [
       "2.5    0.031414\n",
       "3.0    0.073298\n",
       "3.5    0.240838\n",
       "4.0    0.403141\n",
       "4.5    0.246073\n",
       "5.0    0.005236\n",
       "Name: fandango, dtype: float64"
      ]
     },
     "execution_count": 12,
     "metadata": {},
     "output_type": "execute_result"
    }
   ],
   "source": [
    "# Generate frequency distribution of second dataset as percentages\n",
    "current_ratings_trunc_2016[\"fandango\"].value_counts(normalize = True).sort_index()"
   ]
  },
  {
   "cell_type": "markdown",
   "metadata": {},
   "source": [
    "The frequency distribution tables are further confirm the difference in movie ratings between years.  There are more movies (proportionally) with higher ratings in 2015 compared to 2016.\n",
    "\n",
    "## Summary statistics\n",
    "\n",
    "Finally, we look at three summary statistics for each distribution as an additional comparison."
   ]
  },
  {
   "cell_type": "code",
   "execution_count": 13,
   "metadata": {},
   "outputs": [
    {
     "data": {
      "text/html": [
       "<div>\n",
       "<style scoped>\n",
       "    .dataframe tbody tr th:only-of-type {\n",
       "        vertical-align: middle;\n",
       "    }\n",
       "\n",
       "    .dataframe tbody tr th {\n",
       "        vertical-align: top;\n",
       "    }\n",
       "\n",
       "    .dataframe thead th {\n",
       "        text-align: right;\n",
       "    }\n",
       "</style>\n",
       "<table border=\"1\" class=\"dataframe\">\n",
       "  <thead>\n",
       "    <tr style=\"text-align: right;\">\n",
       "      <th></th>\n",
       "      <th>2015</th>\n",
       "      <th>2016</th>\n",
       "    </tr>\n",
       "  </thead>\n",
       "  <tbody>\n",
       "    <tr>\n",
       "      <th>Mean</th>\n",
       "      <td>4.085271</td>\n",
       "      <td>3.887435</td>\n",
       "    </tr>\n",
       "    <tr>\n",
       "      <th>Median</th>\n",
       "      <td>4.000000</td>\n",
       "      <td>4.000000</td>\n",
       "    </tr>\n",
       "    <tr>\n",
       "      <th>Mode</th>\n",
       "      <td>4.500000</td>\n",
       "      <td>4.000000</td>\n",
       "    </tr>\n",
       "  </tbody>\n",
       "</table>\n",
       "</div>"
      ],
      "text/plain": [
       "            2015      2016\n",
       "Mean    4.085271  3.887435\n",
       "Median  4.000000  4.000000\n",
       "Mode    4.500000  4.000000"
      ]
     },
     "execution_count": 13,
     "metadata": {},
     "output_type": "execute_result"
    }
   ],
   "source": [
    "# Calculate mean, median, and mode for both distributions\n",
    "mean_2015 = prior_ratings_trunc_2015[\"Fandango_Stars\"].mean()\n",
    "mean_2016 = current_ratings_trunc_2016[\"fandango\"].mean()\n",
    "median_2015 = prior_ratings_trunc_2015[\"Fandango_Stars\"].median()\n",
    "median_2016 = current_ratings_trunc_2016[\"fandango\"].median()\n",
    "mode_2015 = prior_ratings_trunc_2015[\"Fandango_Stars\"].mode()[0]\n",
    "mode_2016 = current_ratings_trunc_2016[\"fandango\"].mode()[0]\n",
    "\n",
    "# Consolidate statistics into two pandas dataframes (one for each year)\n",
    "summary = pd.DataFrame()\n",
    "summary[\"2015\"] = [mean_2015, median_2015, mode_2015]\n",
    "summary[\"2016\"] = [mean_2016, median_2016, mode_2016]\n",
    "summary.index = [\"Mean\", \"Median\", \"Mode\"]\n",
    "summary"
   ]
  },
  {
   "cell_type": "code",
   "execution_count": 14,
   "metadata": {},
   "outputs": [
    {
     "data": {
      "image/png": "[encoded data removed]",
      "text/plain": [
       "<Figure size 576x360 with 1 Axes>"
      ]
     },
     "metadata": {
      "needs_background": "light"
     },
     "output_type": "display_data"
    }
   ],
   "source": [
    "# Plot summary statistics of both years\n",
    "summary[\"2015\"].plot.bar(color = '#0066FF', align = 'center', label = '2015', width = .25)\n",
    "summary[\"2016\"].plot.bar(color = '#CC0000', align = 'edge', label = '2016', width = .25,\n",
    "                         rot = 0, figsize = (8,5))\n",
    "\n",
    "plt.legend(framealpha = 0, loc = 'upper center')\n",
    "plt.ylim(0, 5.5)\n",
    "plt.ylabel(\"Stars\")\n",
    "\n",
    "plt.show()"
   ]
  },
  {
   "cell_type": "markdown",
   "metadata": {},
   "source": [
    "## Conclusion\n",
    "\n",
    "The summary statistics plotted above triple confirm that the Fandango movie rating system has changed from 2015 to 2016.  Both the mean and the mode are noticeably lower in 2016, indicating that movie ratings were inflated in 2015."
   ]
  }
 ],
 "metadata": {
  "kernelspec": {
   "display_name": "Python 3 (ipykernel)",
   "language": "python",
   "name": "python3"
  },
  "language_info": {
   "codemirror_mode": {
    "name": "ipython",
    "version": 3
   },
   "file_extension": ".py",
   "mimetype": "text/x-python",
   "name": "python",
   "nbconvert_exporter": "python",
   "pygments_lexer": "ipython3",
   "version": "3.9.12"
  }
 },
 "nbformat": 4,
 "nbformat_minor": 2
}
