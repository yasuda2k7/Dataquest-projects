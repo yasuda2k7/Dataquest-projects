{
 "cells": [
  {
   "cell_type": "markdown",
   "id": "9499a346",
   "metadata": {},
   "source": [
    "# Analyzing eBay Kleinanzeigen Used Car Sales\n",
    "eBay Kleinanzeigen is a [classifieds](https://en.wikipedia.org/wiki/Classified_advertising) section of the German eBay website and in this project we will be exploring its data of used car sales.  More specifically, we will clean the original dataset and then perform an analysis of it.  We will also become familiar with some of the unique benefits jupyter notebook provides for pandas.  \n",
    "\n",
    "The dataset was originally scraped and uploaded to Kaggle.  It can be found [here](https://data.world/data-society/used-cars-data) along with a summary and data dictionary.  We will be working with a modified, more raw version of it to practice data cleaning.\n",
    "\n",
    "## Summary of Findings and Results\n",
    "\n",
    "1. Changed column names from camelcase to snakecase and renamed a handful to be more descriptive  \n",
    "2. Used the `info()` and `describe()` functions for summaries of dataframe and to see what to clean  \n",
    "3. Converted a couple columns (`price` and `odometer`) from string to numeric and removed a few colummns that do not provide useful infomation  \n",
    "4. Removed rows that contain outlier data (e.g. invalid registration dates and unrealistic prices)  \n",
    "5. Explored frequency distributions of various date columns, specifically `date_crawled`, `ad_created`, and `last_seen`  \n",
    "    * We used the `value_counts()` and `sort_index` to show this information\n",
    "6. Analyzed average price and average kilometers for the most common used car brands  \n",
    "    * We created a single pandas dataframe with two pandas series (from two dictionaries) to easily illustrate this information"
   ]
  },
  {
   "cell_type": "code",
   "execution_count": null,
   "id": "41523942",
   "metadata": {},
   "outputs": [],
   "source": [
    "# Import NumPy and pandas libraries\n",
    "import numpy as np\n",
    "import pandas as pd\n",
    "\n",
    "# Read CSV dataset into pandas as dataframe\n",
    "autos = pd.read_csv('_data/autos.csv', encoding='Latin-1')"
   ]
  },
  {
   "cell_type": "markdown",
   "id": "6343c86a",
   "metadata": {},
   "source": [
    "**Jupyter Notebook Feature**: By running a pandas object in a cell, jupyter notebook renders its first and last few values shown below."
   ]
  },
  {
   "cell_type": "code",
   "execution_count": null,
   "id": "0405623a",
   "metadata": {
    "scrolled": true
   },
   "outputs": [],
   "source": [
    "autos"
   ]
  },
  {
   "cell_type": "markdown",
   "id": "c4b83550",
   "metadata": {},
   "source": [
    "Let's look at information of the `autos` dataframe below."
   ]
  },
  {
   "cell_type": "code",
   "execution_count": null,
   "id": "90b8ea2a",
   "metadata": {},
   "outputs": [],
   "source": [
    "# Print information about the `autos` dataframe (and print its first 5 rows)\n",
    "autos.info()\n",
    "\n",
    "# autos.head()"
   ]
  },
  {
   "cell_type": "markdown",
   "id": "ec9f3153",
   "metadata": {},
   "source": [
    "Based on the information (of the `autos` dataframe) there are 50,000 rows and 20 columns.  A quarter of the columns are of `integer` type and the remaining columns are of `object` type.  A quarter of the columns contain `null` values for less than 20% of the rows.  \n",
    "\n",
    "Also note that the column names use [camel case](https://en.wikipedia.org/wiki/Camel_case) (not [snake case](https://en.wikipedia.org/wiki/Snake_case)).  \n",
    "\n",
    "## Change Column Names  \n",
    "In the next section, we inspect the specific column names to see how we can clean them.  In particular, we converted the column names from camel case to snake case by changing all characters from uppercase to lowercase and separating words with underscores.  We also reworded some of the column names to be more descriptive based on the data dictionary."
   ]
  },
  {
   "cell_type": "code",
   "execution_count": null,
   "id": "d70f6cbf",
   "metadata": {},
   "outputs": [],
   "source": [
    "autos.columns"
   ]
  },
  {
   "cell_type": "code",
   "execution_count": null,
   "id": "e92d3c1c",
   "metadata": {},
   "outputs": [],
   "source": [
    "# Create list of new (cleaned) column names, then replace them in the `auto` dataframe\n",
    "new_cols = ['date_crawled', 'name', 'seller', 'offer_type', 'price', 'ab_test',\n",
    "       'vehicle_type', 'registration_year', 'gear_box', 'power_ps', 'model',\n",
    "       'odometer', 'registration_month', 'fuel_type', 'brand',\n",
    "       'unrepaired_damage', 'ad_created', 'num_photos', 'postal_code',\n",
    "       'last_seen']\n",
    "\n",
    "autos.columns = new_cols\n",
    "\n",
    "# View the changes made\n",
    "autos.head()"
   ]
  },
  {
   "cell_type": "markdown",
   "id": "2e1d9022",
   "metadata": {},
   "source": [
    "## Initial Data Exploration and Cleaning\n",
    "We begin by looking at a summary of each column to see if there are any obvious areas of the data that can be cleaned."
   ]
  },
  {
   "cell_type": "code",
   "execution_count": null,
   "id": "2ccb6c73",
   "metadata": {},
   "outputs": [],
   "source": [
    "autos.describe(include = 'all')"
   ]
  },
  {
   "cell_type": "markdown",
   "id": "b375bc32",
   "metadata": {},
   "source": [
    "Based on the above summary table, there are four columns that can likely be changed and one column that needs further investigation:  \n",
    "* The `price` and `odometer` columns represent numeric values but are stored as texts\n",
    "    - They contain non-numeric characters which can be removed, allowing the two columns to be converted to integer types\n",
    "* The `seller` and `offer_type` columns have only one value (except for one row) and thus do not provide any information  \n",
    "    - They will be removed from the data\n",
    "* The `num_photos` column values look strange and should be investigated further\n"
   ]
  },
  {
   "cell_type": "code",
   "execution_count": null,
   "id": "a3c746f2",
   "metadata": {},
   "outputs": [],
   "source": [
    "autos[\"price\"].unique()"
   ]
  },
  {
   "cell_type": "code",
   "execution_count": null,
   "id": "2bf6b3ca",
   "metadata": {},
   "outputs": [],
   "source": [
    "# Remove '$' and ',' characters from the `price` column and convert to integer type\n",
    "autos[\"price\"] = (autos[\"price\"].str.replace(\"$\",\"\").str.replace(\",\",\"\").astype(int))\n",
    "\n",
    "autos[\"price\"].head()"
   ]
  },
  {
   "cell_type": "code",
   "execution_count": null,
   "id": "f1b53f33",
   "metadata": {},
   "outputs": [],
   "source": [
    "autos[\"odometer\"].unique()"
   ]
  },
  {
   "cell_type": "code",
   "execution_count": null,
   "id": "1e0cb692",
   "metadata": {},
   "outputs": [],
   "source": [
    "# Remove 'km' and ',' characters from the `odometer` column and convert to integer type\n",
    "autos[\"odometer\"] = (autos[\"odometer\"].str.replace(\"km\",\"\").str.replace(\",\",\"\").astype(int))\n",
    "\n",
    "# Replace 'odometer' column name with 'odometer_km'\n",
    "autos.rename({\"odometer\": \"odometer_km\"}, axis = 1, inplace = True)\n",
    "\n",
    "autos[\"odometer_km\"].head()"
   ]
  },
  {
   "cell_type": "code",
   "execution_count": null,
   "id": "be9d2528",
   "metadata": {},
   "outputs": [],
   "source": [
    "# Check suspicion that all rows of the 'num_photos' column are zeros\n",
    "autos[\"num_photos\"].value_counts()"
   ]
  },
  {
   "cell_type": "markdown",
   "id": "2c15eb1b",
   "metadata": {},
   "source": [
    "The `num_photos` column is all zero and does not provide any information, so it is removed from the dataset."
   ]
  },
  {
   "cell_type": "code",
   "execution_count": null,
   "id": "c6281c1a",
   "metadata": {},
   "outputs": [],
   "source": [
    "autos = autos.drop([\"num_photos\", \"seller\", \"offer_type\"], axis = 1)"
   ]
  },
  {
   "cell_type": "markdown",
   "id": "7898f95d",
   "metadata": {},
   "source": [
    "## More Detailed Look at Price and Odometer Values\n",
    "In the sections below, we analyze the minimum and maximum values of the `price` and `odometer_km` columns as well as other statistics such as their mean, median, and frequency distributions.  We find that there are unrealistic outliers in the `price` column, so they are removed from the dataset altogether (keeping only the realistic values)."
   ]
  },
  {
   "cell_type": "code",
   "execution_count": null,
   "id": "00255896",
   "metadata": {},
   "outputs": [],
   "source": [
    "# Check the number of unique values of 'odometer_km' column\n",
    "autos[\"odometer_km\"].unique().shape"
   ]
  },
  {
   "cell_type": "code",
   "execution_count": null,
   "id": "dc7fec34",
   "metadata": {},
   "outputs": [],
   "source": [
    "# Look at some summary statistics of 'odometer_km' column\n",
    "autos[\"odometer_km\"].describe()"
   ]
  },
  {
   "cell_type": "code",
   "execution_count": null,
   "id": "d17fcc4d",
   "metadata": {},
   "outputs": [],
   "source": [
    "# Look at frequency distribution of 'odometer_km' column\n",
    "autos[\"odometer_km\"].value_counts()"
   ]
  },
  {
   "cell_type": "markdown",
   "id": "7da58808",
   "metadata": {},
   "source": [
    "The values in the `odometer_km` column seem reasonable.  There are 13 unique values (note that they are rounded) and the distribution is skewed left, which makes sense since most used cars will have many kilometers on them.  Some used cars do have pretty low values, around five thousand, but this is still reasonable since not everyone likes the cars that they buy.  \n",
    "\n",
    "Next we take a closer look at the `price` column in the sections below."
   ]
  },
  {
   "cell_type": "code",
   "execution_count": null,
   "id": "3cfe29ec",
   "metadata": {},
   "outputs": [],
   "source": [
    "# Check the number of unique values of 'price' column\n",
    "autos[\"price\"].unique().shape"
   ]
  },
  {
   "cell_type": "code",
   "execution_count": null,
   "id": "007e1975",
   "metadata": {},
   "outputs": [],
   "source": [
    "# Change values format from scientific to number notation (with commas and two decimal places)\n",
    "pd.options.display.float_format = '{:,.4f}'.format\n",
    "\n",
    "# Look at some summary statistics of 'price' column\n",
    "autos[\"price\"].describe()"
   ]
  },
  {
   "cell_type": "code",
   "execution_count": null,
   "id": "7f1e22ce",
   "metadata": {},
   "outputs": [],
   "source": [
    "# View number of high price values\n",
    "autos[\"price\"].value_counts().sort_index(ascending=False).head(20)"
   ]
  },
  {
   "cell_type": "code",
   "execution_count": null,
   "id": "238a182e",
   "metadata": {},
   "outputs": [],
   "source": [
    "# View number of low price values\n",
    "autos[\"price\"].value_counts().sort_index(ascending=True).head(20)"
   ]
  },
  {
   "cell_type": "markdown",
   "id": "05c70be9",
   "metadata": {},
   "source": [
    "There are many unrealistic values in the `price` column based on the frequency distributions above.  In particular, there are 1,421 rows with \\\\$0 price and 14 rows with price > $350k.  We remove these rows from the dataset so that we only retain useful and accurate information."
   ]
  },
  {
   "cell_type": "code",
   "execution_count": null,
   "id": "acf4bc37",
   "metadata": {},
   "outputs": [],
   "source": [
    "# Only retain the realistic values of `price` in the dataset\n",
    "autos = autos[autos[\"price\"].between(1,350001)]"
   ]
  },
  {
   "cell_type": "markdown",
   "id": "027c7a50",
   "metadata": {},
   "source": [
    "## Exploring the Date Columns\n",
    "There are five columns in the dataset that represent date values. Two of them were created by the crawler and the remaining three are from the website itself.  Furthermore, two of the columns represent the dates as numeric values and the remaining three use strings.  To understand the distribution of these columns, numeric values are more practical.\n",
    "\n",
    "We first explore the `date_crawled` column below."
   ]
  },
  {
   "cell_type": "code",
   "execution_count": null,
   "id": "09e4a015",
   "metadata": {},
   "outputs": [],
   "source": [
    "# Restrict to dates only (remove times), convert distribution to percentages,\n",
    "# dropna, and sort ascending of the `date_crawled` column\n",
    "autos[\"date_crawled\"].str[:10].value_counts(normalize=True, dropna=False).sort_index()"
   ]
  },
  {
   "cell_type": "markdown",
   "id": "41244b3d",
   "metadata": {},
   "source": [
    "The `date_crawled` dates are quite evenly distributed (among the days) between March 3, 2016 and April 7, 2016 (only one month)."
   ]
  },
  {
   "cell_type": "markdown",
   "id": "2c9e2e45",
   "metadata": {},
   "source": [
    "Secondly, we explore the `ad_created` column."
   ]
  },
  {
   "cell_type": "code",
   "execution_count": null,
   "id": "723421bc",
   "metadata": {},
   "outputs": [],
   "source": [
    "# Restrict to dates only (remove times), convert distribution to percentages,\n",
    "# dropna, and sort ascending of the `ad_created` column\n",
    "autos[\"ad_created\"].str[:7].value_counts(normalize=True, dropna=False).sort_index()"
   ]
  },
  {
   "cell_type": "markdown",
   "id": "84a17afc",
   "metadata": {},
   "source": [
    "We can see from the frequency distribution above (percentages) that pretty much all of the used car ads were created in March and April 2016 (84% and 16% respectively).  There are some, but very few, ads that were created from June 2015 - February 2016.  \n",
    "\n",
    "Next, we explore the `last_seen` column."
   ]
  },
  {
   "cell_type": "code",
   "execution_count": null,
   "id": "b0fc4f41",
   "metadata": {},
   "outputs": [],
   "source": [
    "# Restrict to dates only (remove times), convert distribution to percentages,\n",
    "# dropna, and sort ascending of the `last_seen` column\n",
    "autos[\"last_seen\"].str[:10].value_counts(normalize=True, dropna=False).sort_index()"
   ]
  },
  {
   "cell_type": "markdown",
   "id": "60ac95a1",
   "metadata": {},
   "source": [
    "The `last_seen` column has a similar frequency distribution as the `date_crawled` column.  It is pretty uniformly distributed between March 5, 2016 and April 7, 2016.\n",
    "\n",
    "Finally, we explore the `registration_year` column."
   ]
  },
  {
   "cell_type": "code",
   "execution_count": null,
   "id": "1bf958b7",
   "metadata": {},
   "outputs": [],
   "source": [
    "# Look at summary statistics for the `registration_year` column\n",
    "autos[\"registration_year\"].describe()"
   ]
  },
  {
   "cell_type": "markdown",
   "id": "8cf5442b",
   "metadata": {},
   "source": [
    "The mean and median registration dates are both 2004.  We can also see that there are very low and very high values (year 1000 and year 9999) which do not make sense.  \n",
    "\n",
    "## Cleaning the Registration Year Data  \n",
    "\n",
    "Before completely removing the above rows with invalid registration years, we first count the number of listings with cars outside the 1900-2016 interval to give us an idea of how much data/information we would be losing."
   ]
  },
  {
   "cell_type": "code",
   "execution_count": null,
   "id": "446e0aee",
   "metadata": {},
   "outputs": [],
   "source": [
    "(~autos[\"registration_year\"].between(1900,2016)).sum() / autos.shape[0]"
   ]
  },
  {
   "cell_type": "markdown",
   "id": "8b6d83b8",
   "metadata": {},
   "source": [
    "Thus, removing rows of data where registration date is outside the 1900-2016 interval results in a loss of only *3.9%* of our dataset, which isn't too much.  We proceed to do so below and look at the resulting distribution."
   ]
  },
  {
   "cell_type": "code",
   "execution_count": null,
   "id": "a3544917",
   "metadata": {},
   "outputs": [],
   "source": [
    "# Retain rows where `registration_year` is within the interval 1900-2016\n",
    "autos = autos[autos[\"registration_year\"].between(1900,2016)]\n",
    "\n",
    "# Generate resulting frequency distribution (percentage and top 10 only)\n",
    "autos[\"registration_year\"].value_counts(normalize=True).head(15)"
   ]
  },
  {
   "cell_type": "markdown",
   "id": "d1945dff",
   "metadata": {},
   "source": [
    "The majority of used cars were registered between 1997 and 2011, which seems reasonable given that both the mean and average registration years is 2004 (from a previous cell).\n",
    "\n",
    "## Exploring the Brands Column\n",
    "\n",
    "Next, we explore the unique car brands values (i.e. the `brand` column) in our used car listings dataset."
   ]
  },
  {
   "cell_type": "code",
   "execution_count": null,
   "id": "b90ae582",
   "metadata": {},
   "outputs": [],
   "source": [
    "# Generate frequency distribution (percentage) of all unique car brands\n",
    "autos[\"brand\"].value_counts(normalize=True)"
   ]
  },
  {
   "cell_type": "markdown",
   "id": "d8864131",
   "metadata": {},
   "source": [
    "We can see that German manufacturers make up more than half of the listings, which makes sense since we pulled data from a German used car website.  Also note that there are many brands that make up a very small portion of the data (less than 3%), which may not be credible.  \n",
    "\n",
    "For our analysis of brands, we will limit ourselves to the listings that have more than 4% representation."
   ]
  },
  {
   "cell_type": "code",
   "execution_count": null,
   "id": "06455d5f",
   "metadata": {},
   "outputs": [],
   "source": [
    "# Resulting frequency distribution (percentage) of brands that make up more than 4% of data\n",
    "autos[\"brand\"].value_counts(normalize=True).loc[lambda x : x > .04]"
   ]
  },
  {
   "cell_type": "code",
   "execution_count": null,
   "id": "f331c443",
   "metadata": {},
   "outputs": [],
   "source": [
    "# Created limited brands dataset\n",
    "brand_counts = autos[\"brand\"].value_counts(normalize=True)\n",
    "\n",
    "# Store limited brands/labels in a list/array for access in next cell\n",
    "brand_limit = brand_counts[brand_counts > .04].index"
   ]
  },
  {
   "cell_type": "markdown",
   "id": "3fafa53f",
   "metadata": {},
   "source": [
    "We now calculate the average price per common brand (and store it) for analysis."
   ]
  },
  {
   "cell_type": "code",
   "execution_count": null,
   "id": "34afdc03",
   "metadata": {},
   "outputs": [],
   "source": [
    "# Create dictionary and loop through common brands to calculate average price, then store back\n",
    "brand_mean_price = {}\n",
    "\n",
    "for brand in brand_limit:\n",
    "    autos_brand = autos[autos[\"brand\"] == brand]\n",
    "    avg_brand = autos_brand[\"price\"].mean()\n",
    "    brand_mean_price[brand] = int(avg_brand)\n",
    "\n",
    "# Show resulting average price by brand\n",
    "brand_mean_price"
   ]
  },
  {
   "cell_type": "markdown",
   "id": "9b01220c",
   "metadata": {},
   "source": [
    "Audi is the most expensive used car brand (averaging ~\\\\$9k), followed closely by Mercedes Benz and BMW (averaging ~\\\\$9k and ~\\\\$8k respective).  Opel and Renault are the cheapest averaging around \\\\$3k.  Volkswagen is in the middle with an average list price of ~\\\\$5k.  \n",
    "\n",
    "To see if there is a potential correlation between price and kilometers logged, we calculate the average kilometers logged for each of the same common brands next."
   ]
  },
  {
   "cell_type": "code",
   "execution_count": null,
   "id": "d007cbe5",
   "metadata": {},
   "outputs": [],
   "source": [
    "# Create dictionary and loop through common brands to calculate average kilometers, then store back\n",
    "brand_mean_km = {}\n",
    "\n",
    "for brand in brand_limit:\n",
    "    autos_brand = autos[autos[\"brand\"] == brand]\n",
    "    avg_brand = autos_brand[\"odometer_km\"].mean()\n",
    "    brand_mean_km[brand] = int(avg_brand)\n",
    "\n",
    "# Show resulting average kilometers by brand\n",
    "brand_mean_km"
   ]
  },
  {
   "cell_type": "markdown",
   "id": "91c9220b",
   "metadata": {},
   "source": [
    "We convert dictionaries (of mean price and mean km) to pandas series, combine information of (two) pandas series into single pandas dataframe, and name columns in order to display nicely in one table."
   ]
  },
  {
   "cell_type": "code",
   "execution_count": null,
   "id": "6e63ebac",
   "metadata": {},
   "outputs": [],
   "source": [
    "# Convert dictionaries (created in prior cells) to pandas series (via constructor)\n",
    "bmp_series = pd.Series(brand_mean_price)\n",
    "bmk_series = pd.Series(brand_mean_km)\n",
    "\n",
    "# Combine series objects into single pandas dataframe (via constructor) for easy display\n",
    "brand_means = pd.DataFrame(bmp_series, columns=['mean_price'])\n",
    "brand_means[\"mean_km\"] = bmk_series\n",
    "\n",
    "brand_means"
   ]
  },
  {
   "cell_type": "markdown",
   "id": "b4e8d79a",
   "metadata": {},
   "source": [
    "Based on the table above that shows the average price and average kilometers per common used car brand, we can see that the price does not seem to vary by kilometers logged.  All common used car brands have around the same average kilometers, but the prices vary more significantly."
   ]
  }
 ],
 "metadata": {
  "kernelspec": {
   "display_name": "Python 3 (ipykernel)",
   "language": "python",
   "name": "python3"
  },
  "language_info": {
   "codemirror_mode": {
    "name": "ipython",
    "version": 3
   },
   "file_extension": ".py",
   "mimetype": "text/x-python",
   "name": "python",
   "nbconvert_exporter": "python",
   "pygments_lexer": "ipython3",
   "version": "3.9.12"
  }
 },
 "nbformat": 4,
 "nbformat_minor": 5
}
