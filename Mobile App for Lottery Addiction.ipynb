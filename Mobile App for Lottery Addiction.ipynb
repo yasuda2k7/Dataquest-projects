{
 "cells": [
  {
   "cell_type": "markdown",
   "id": "714587e7",
   "metadata": {},
   "source": [
    "# Mobile App for Lottery Addition\n",
    "\n",
    "**Background:** In this hypothetical scenario, a medical institute is building a mobile app to help lottery addicts understand their extremely low chances of winning.  The goal is for addicted gamblers and *potential* addicted gamblers to use the app in hopes of treating and preventing their toxic tendencies.\n",
    "\n",
    "**Objective:** Our task is to develop the logical core of the app and calculate probabilities.  The first version's focus is around the following questions:\n",
    "* What is the probability/chance of winning the big prize with a single ticket?\n",
    "* What is the probability/chance of winning the big prize if 40 different tickets are played?  How about any other number of tickets?\n",
    "* What is the probability/chance of having at least five, four, three, or two winning numbers on a single ticket?\n",
    "\n",
    "**Data:** We will be utilizing fictional historical data from the national 6/49 lottery game in Canada.  The [dataset](https://www.kaggle.com/datasets/datascienceai/lottery-dataset) has 3,665 drawings from the years 1982-2018.\n",
    "\n",
    "**Lottery:** In the 6/49 lottery, 6 numbers are drawn *without replacement* from a set of 49 numbers (ranging from 1 to 49).  To answer probability questions related to playing the lottery, we'll need to repeatedly calculate `factorials` and `combinations`.  They are defined as functions in the cell below."
   ]
  },
  {
   "cell_type": "code",
   "execution_count": 1,
   "id": "f87ca5c8",
   "metadata": {},
   "outputs": [],
   "source": [
    "# Define a function that calculates the factorial of positive integer n\n",
    "def factorial(n):\n",
    "    answer = 1\n",
    "    for i in range(n, 0, -1):\n",
    "        answer *= i\n",
    "    return answer\n",
    "\n",
    "# Define a function that calculations the number of possible combinations of k objects from a group of n objects\n",
    "def combinations(n, k):\n",
    "    return factorial(n) / (factorial(k) * factorial(n - k))"
   ]
  },
  {
   "cell_type": "markdown",
   "id": "cd471f0c",
   "metadata": {},
   "source": [
    "## Chance of winning with a single lottery ticket\n",
    "\n",
    "Using the above `factorial` and `combinations` functions, we define a new function `one_ticket_probability` that calculates and displays the answer to our first question:\n",
    "\n",
    "    What is the probability/chance of winning the big prize with a single ticket?"
   ]
  },
  {
   "cell_type": "code",
   "execution_count": 2,
   "id": "a473c412",
   "metadata": {},
   "outputs": [],
   "source": [
    "# Define a function that prints the probability/chance of winning the lottery with one ticket\n",
    "def one_ticket_probability(list):\n",
    "    total_outcomes = combinations(49, 6)\n",
    "    probability_pct = 1 / total_outcomes\n",
    "    print(\"The chance of you winning big with your one lottery ticket that has the numbers {} is {:.7%}.  This translates to a 1 in {:,} chance of winning.\".format(list, probability_pct, int(total_outcomes)))"
   ]
  },
  {
   "cell_type": "code",
   "execution_count": 3,
   "id": "8d5e0d62",
   "metadata": {},
   "outputs": [
    {
     "name": "stdout",
     "output_type": "stream",
     "text": [
      "The chance of you winning big with your one lottery ticket that has the numbers [1, 2, 3, 4, 5, 6] is 0.0000072%.  This translates to a 1 in 13,983,816 chance of winning.\n"
     ]
    }
   ],
   "source": [
    "# Test the `one_ticket_probability` function\n",
    "one_ticket_probability([1,2,3,4,5,6])"
   ]
  },
  {
   "cell_type": "markdown",
   "id": "8afc7bf9",
   "metadata": {},
   "source": [
    "## Read, inspect, and slightly modify the dataset\n",
    "\n",
    "Since we'll be using historical data to calculate probabilities that will inform the app users, we import the csv file and take a quick look in the following cells. We also create a new column containing all winning numbers of each drawing, rather than having each number in six separate columns of their own."
   ]
  },
  {
   "cell_type": "code",
   "execution_count": 4,
   "id": "947c5a10",
   "metadata": {},
   "outputs": [
    {
     "data": {
      "text/plain": [
       "(3665, 11)"
      ]
     },
     "execution_count": 4,
     "metadata": {},
     "output_type": "execute_result"
    }
   ],
   "source": [
    "# Import pandas library, read csv dataset, and view number of rows and columns\n",
    "import pandas as pd\n",
    "\n",
    "data = pd.read_csv(\"649.csv\")\n",
    "data.shape"
   ]
  },
  {
   "cell_type": "code",
   "execution_count": 5,
   "id": "6f12dd2b",
   "metadata": {},
   "outputs": [
    {
     "data": {
      "text/html": [
       "<div>\n",
       "<style scoped>\n",
       "    .dataframe tbody tr th:only-of-type {\n",
       "        vertical-align: middle;\n",
       "    }\n",
       "\n",
       "    .dataframe tbody tr th {\n",
       "        vertical-align: top;\n",
       "    }\n",
       "\n",
       "    .dataframe thead th {\n",
       "        text-align: right;\n",
       "    }\n",
       "</style>\n",
       "<table border=\"1\" class=\"dataframe\">\n",
       "  <thead>\n",
       "    <tr style=\"text-align: right;\">\n",
       "      <th></th>\n",
       "      <th>PRODUCT</th>\n",
       "      <th>DRAW NUMBER</th>\n",
       "      <th>SEQUENCE NUMBER</th>\n",
       "      <th>DRAW DATE</th>\n",
       "      <th>NUMBER DRAWN 1</th>\n",
       "      <th>NUMBER DRAWN 2</th>\n",
       "      <th>NUMBER DRAWN 3</th>\n",
       "      <th>NUMBER DRAWN 4</th>\n",
       "      <th>NUMBER DRAWN 5</th>\n",
       "      <th>NUMBER DRAWN 6</th>\n",
       "      <th>BONUS NUMBER</th>\n",
       "    </tr>\n",
       "  </thead>\n",
       "  <tbody>\n",
       "    <tr>\n",
       "      <th>0</th>\n",
       "      <td>649</td>\n",
       "      <td>1</td>\n",
       "      <td>0</td>\n",
       "      <td>6/12/1982</td>\n",
       "      <td>3</td>\n",
       "      <td>11</td>\n",
       "      <td>12</td>\n",
       "      <td>14</td>\n",
       "      <td>41</td>\n",
       "      <td>43</td>\n",
       "      <td>13</td>\n",
       "    </tr>\n",
       "    <tr>\n",
       "      <th>1</th>\n",
       "      <td>649</td>\n",
       "      <td>2</td>\n",
       "      <td>0</td>\n",
       "      <td>6/19/1982</td>\n",
       "      <td>8</td>\n",
       "      <td>33</td>\n",
       "      <td>36</td>\n",
       "      <td>37</td>\n",
       "      <td>39</td>\n",
       "      <td>41</td>\n",
       "      <td>9</td>\n",
       "    </tr>\n",
       "    <tr>\n",
       "      <th>2</th>\n",
       "      <td>649</td>\n",
       "      <td>3</td>\n",
       "      <td>0</td>\n",
       "      <td>6/26/1982</td>\n",
       "      <td>1</td>\n",
       "      <td>6</td>\n",
       "      <td>23</td>\n",
       "      <td>24</td>\n",
       "      <td>27</td>\n",
       "      <td>39</td>\n",
       "      <td>34</td>\n",
       "    </tr>\n",
       "  </tbody>\n",
       "</table>\n",
       "</div>"
      ],
      "text/plain": [
       "   PRODUCT  DRAW NUMBER  SEQUENCE NUMBER  DRAW DATE  NUMBER DRAWN 1  \\\n",
       "0      649            1                0  6/12/1982               3   \n",
       "1      649            2                0  6/19/1982               8   \n",
       "2      649            3                0  6/26/1982               1   \n",
       "\n",
       "   NUMBER DRAWN 2  NUMBER DRAWN 3  NUMBER DRAWN 4  NUMBER DRAWN 5  \\\n",
       "0              11              12              14              41   \n",
       "1              33              36              37              39   \n",
       "2               6              23              24              27   \n",
       "\n",
       "   NUMBER DRAWN 6  BONUS NUMBER  \n",
       "0              43            13  \n",
       "1              41             9  \n",
       "2              39            34  "
      ]
     },
     "execution_count": 5,
     "metadata": {},
     "output_type": "execute_result"
    }
   ],
   "source": [
    "# Print first three rows of dataset\n",
    "data.head(3)"
   ]
  },
  {
   "cell_type": "code",
   "execution_count": 6,
   "id": "ecf02d09",
   "metadata": {},
   "outputs": [
    {
     "data": {
      "text/html": [
       "<div>\n",
       "<style scoped>\n",
       "    .dataframe tbody tr th:only-of-type {\n",
       "        vertical-align: middle;\n",
       "    }\n",
       "\n",
       "    .dataframe tbody tr th {\n",
       "        vertical-align: top;\n",
       "    }\n",
       "\n",
       "    .dataframe thead th {\n",
       "        text-align: right;\n",
       "    }\n",
       "</style>\n",
       "<table border=\"1\" class=\"dataframe\">\n",
       "  <thead>\n",
       "    <tr style=\"text-align: right;\">\n",
       "      <th></th>\n",
       "      <th>PRODUCT</th>\n",
       "      <th>DRAW NUMBER</th>\n",
       "      <th>SEQUENCE NUMBER</th>\n",
       "      <th>DRAW DATE</th>\n",
       "      <th>NUMBER DRAWN 1</th>\n",
       "      <th>NUMBER DRAWN 2</th>\n",
       "      <th>NUMBER DRAWN 3</th>\n",
       "      <th>NUMBER DRAWN 4</th>\n",
       "      <th>NUMBER DRAWN 5</th>\n",
       "      <th>NUMBER DRAWN 6</th>\n",
       "      <th>BONUS NUMBER</th>\n",
       "    </tr>\n",
       "  </thead>\n",
       "  <tbody>\n",
       "    <tr>\n",
       "      <th>3662</th>\n",
       "      <td>649</td>\n",
       "      <td>3589</td>\n",
       "      <td>0</td>\n",
       "      <td>6/13/2018</td>\n",
       "      <td>6</td>\n",
       "      <td>22</td>\n",
       "      <td>24</td>\n",
       "      <td>31</td>\n",
       "      <td>32</td>\n",
       "      <td>34</td>\n",
       "      <td>16</td>\n",
       "    </tr>\n",
       "    <tr>\n",
       "      <th>3663</th>\n",
       "      <td>649</td>\n",
       "      <td>3590</td>\n",
       "      <td>0</td>\n",
       "      <td>6/16/2018</td>\n",
       "      <td>2</td>\n",
       "      <td>15</td>\n",
       "      <td>21</td>\n",
       "      <td>31</td>\n",
       "      <td>38</td>\n",
       "      <td>49</td>\n",
       "      <td>8</td>\n",
       "    </tr>\n",
       "    <tr>\n",
       "      <th>3664</th>\n",
       "      <td>649</td>\n",
       "      <td>3591</td>\n",
       "      <td>0</td>\n",
       "      <td>6/20/2018</td>\n",
       "      <td>14</td>\n",
       "      <td>24</td>\n",
       "      <td>31</td>\n",
       "      <td>35</td>\n",
       "      <td>37</td>\n",
       "      <td>48</td>\n",
       "      <td>17</td>\n",
       "    </tr>\n",
       "  </tbody>\n",
       "</table>\n",
       "</div>"
      ],
      "text/plain": [
       "      PRODUCT  DRAW NUMBER  SEQUENCE NUMBER  DRAW DATE  NUMBER DRAWN 1  \\\n",
       "3662      649         3589                0  6/13/2018               6   \n",
       "3663      649         3590                0  6/16/2018               2   \n",
       "3664      649         3591                0  6/20/2018              14   \n",
       "\n",
       "      NUMBER DRAWN 2  NUMBER DRAWN 3  NUMBER DRAWN 4  NUMBER DRAWN 5  \\\n",
       "3662              22              24              31              32   \n",
       "3663              15              21              31              38   \n",
       "3664              24              31              35              37   \n",
       "\n",
       "      NUMBER DRAWN 6  BONUS NUMBER  \n",
       "3662              34            16  \n",
       "3663              49             8  \n",
       "3664              48            17  "
      ]
     },
     "execution_count": 6,
     "metadata": {},
     "output_type": "execute_result"
    }
   ],
   "source": [
    "# Print last three rows of dataset\n",
    "data.tail(3)"
   ]
  },
  {
   "cell_type": "code",
   "execution_count": 7,
   "id": "472ad19f",
   "metadata": {},
   "outputs": [],
   "source": [
    "# Define a function with all winning lottery numbers, as a set, for each given row of data\n",
    "def extract_numbers(row):\n",
    "    return {row[\"NUMBER DRAWN 1\"], row[\"NUMBER DRAWN 2\"], row[\"NUMBER DRAWN 3\"]\n",
    "           ,row[\"NUMBER DRAWN 4\"], row[\"NUMBER DRAWN 5\"], row[\"NUMBER DRAWN 6\"]}\n",
    "\n",
    "# Create a new column in our data with the above function applied\n",
    "data[\"winning_nums\"] = data.apply(extract_numbers, axis = 1)"
   ]
  },
  {
   "cell_type": "markdown",
   "id": "9c7a4dac",
   "metadata": {},
   "source": [
    "Note that the winning numbers are place in a set, rather than a list, in the function defined above.  This allows for easy comparison of the entire set as a whole (against another set), as opposed to comparing individual elements of a list one-by-one.  It will come in handy shortly when we want to compare any set of lottery numbers to the historical data."
   ]
  },
  {
   "cell_type": "code",
   "execution_count": 8,
   "id": "d4b531bb",
   "metadata": {},
   "outputs": [
    {
     "data": {
      "text/html": [
       "<div>\n",
       "<style scoped>\n",
       "    .dataframe tbody tr th:only-of-type {\n",
       "        vertical-align: middle;\n",
       "    }\n",
       "\n",
       "    .dataframe tbody tr th {\n",
       "        vertical-align: top;\n",
       "    }\n",
       "\n",
       "    .dataframe thead th {\n",
       "        text-align: right;\n",
       "    }\n",
       "</style>\n",
       "<table border=\"1\" class=\"dataframe\">\n",
       "  <thead>\n",
       "    <tr style=\"text-align: right;\">\n",
       "      <th></th>\n",
       "      <th>PRODUCT</th>\n",
       "      <th>DRAW NUMBER</th>\n",
       "      <th>SEQUENCE NUMBER</th>\n",
       "      <th>DRAW DATE</th>\n",
       "      <th>NUMBER DRAWN 1</th>\n",
       "      <th>NUMBER DRAWN 2</th>\n",
       "      <th>NUMBER DRAWN 3</th>\n",
       "      <th>NUMBER DRAWN 4</th>\n",
       "      <th>NUMBER DRAWN 5</th>\n",
       "      <th>NUMBER DRAWN 6</th>\n",
       "      <th>BONUS NUMBER</th>\n",
       "      <th>winning_nums</th>\n",
       "    </tr>\n",
       "  </thead>\n",
       "  <tbody>\n",
       "    <tr>\n",
       "      <th>0</th>\n",
       "      <td>649</td>\n",
       "      <td>1</td>\n",
       "      <td>0</td>\n",
       "      <td>6/12/1982</td>\n",
       "      <td>3</td>\n",
       "      <td>11</td>\n",
       "      <td>12</td>\n",
       "      <td>14</td>\n",
       "      <td>41</td>\n",
       "      <td>43</td>\n",
       "      <td>13</td>\n",
       "      <td>{3, 41, 11, 12, 43, 14}</td>\n",
       "    </tr>\n",
       "    <tr>\n",
       "      <th>1</th>\n",
       "      <td>649</td>\n",
       "      <td>2</td>\n",
       "      <td>0</td>\n",
       "      <td>6/19/1982</td>\n",
       "      <td>8</td>\n",
       "      <td>33</td>\n",
       "      <td>36</td>\n",
       "      <td>37</td>\n",
       "      <td>39</td>\n",
       "      <td>41</td>\n",
       "      <td>9</td>\n",
       "      <td>{33, 36, 37, 39, 8, 41}</td>\n",
       "    </tr>\n",
       "    <tr>\n",
       "      <th>2</th>\n",
       "      <td>649</td>\n",
       "      <td>3</td>\n",
       "      <td>0</td>\n",
       "      <td>6/26/1982</td>\n",
       "      <td>1</td>\n",
       "      <td>6</td>\n",
       "      <td>23</td>\n",
       "      <td>24</td>\n",
       "      <td>27</td>\n",
       "      <td>39</td>\n",
       "      <td>34</td>\n",
       "      <td>{1, 6, 39, 23, 24, 27}</td>\n",
       "    </tr>\n",
       "  </tbody>\n",
       "</table>\n",
       "</div>"
      ],
      "text/plain": [
       "   PRODUCT  DRAW NUMBER  SEQUENCE NUMBER  DRAW DATE  NUMBER DRAWN 1  \\\n",
       "0      649            1                0  6/12/1982               3   \n",
       "1      649            2                0  6/19/1982               8   \n",
       "2      649            3                0  6/26/1982               1   \n",
       "\n",
       "   NUMBER DRAWN 2  NUMBER DRAWN 3  NUMBER DRAWN 4  NUMBER DRAWN 5  \\\n",
       "0              11              12              14              41   \n",
       "1              33              36              37              39   \n",
       "2               6              23              24              27   \n",
       "\n",
       "   NUMBER DRAWN 6  BONUS NUMBER             winning_nums  \n",
       "0              43            13  {3, 41, 11, 12, 43, 14}  \n",
       "1              41             9  {33, 36, 37, 39, 8, 41}  \n",
       "2              39            34   {1, 6, 39, 23, 24, 27}  "
      ]
     },
     "execution_count": 8,
     "metadata": {},
     "output_type": "execute_result"
    }
   ],
   "source": [
    "# Check the newly created column of winning numbers\n",
    "data.head(3)"
   ]
  },
  {
   "cell_type": "markdown",
   "id": "b8458e5d",
   "metadata": {},
   "source": [
    "## Check a given lottery ticket against historical drawings\n",
    "\n",
    "Now we'll build the functionality allowing users to compare their lottery ticket numbers to previous drawings, and see whether or not they ever would have won (chances are they wouldn't have).  Also included is the chance of winning the next drawing with a single lottery ticket (this uses logic earlier in the project)."
   ]
  },
  {
   "cell_type": "code",
   "execution_count": 9,
   "id": "7ce170f8",
   "metadata": {},
   "outputs": [],
   "source": [
    "# Define a function that counts the number of times a list/set of lottery numbers won in the past\n",
    "def check_historical_occurrence(list, series):\n",
    "    user_nums = set(list)\n",
    "    occurrence = 0\n",
    "    \n",
    "    for num_set in series:\n",
    "        if user_nums == num_set:\n",
    "            occurrence += 1\n",
    "        else: continue\n",
    "    print(\"The number of times your lottery ticket numbers {} occurred in the past is {}.  Your chances of winning the big prize in the next drawing is 0.0000072%, or 1 in 13,983,816.\".format(list, occurrence))"
   ]
  },
  {
   "cell_type": "code",
   "execution_count": 10,
   "id": "c0a99567",
   "metadata": {},
   "outputs": [
    {
     "name": "stdout",
     "output_type": "stream",
     "text": [
      "The number of times your lottery ticket numbers [32, 34, 22, 24, 31, 6] occurred in the past is 1.  Your chances of winning the big prize in the next drawing is 0.0000072%, or 1 in 13,983,816.\n"
     ]
    }
   ],
   "source": [
    "# Test above created function\n",
    "check_historical_occurrence([32,34,22,24,31,6], data[\"winning_nums\"])"
   ]
  },
  {
   "cell_type": "code",
   "execution_count": 11,
   "id": "c8857c01",
   "metadata": {},
   "outputs": [
    {
     "name": "stdout",
     "output_type": "stream",
     "text": [
      "The number of times your lottery ticket numbers [3, 2, 44, 22, 1, 44] occurred in the past is 0.  Your chances of winning the big prize in the next drawing is 0.0000072%, or 1 in 13,983,816.\n"
     ]
    }
   ],
   "source": [
    "# Test above created function\n",
    "check_historical_occurrence([3, 2, 44, 22, 1, 44], data[\"winning_nums\"])"
   ]
  },
  {
   "cell_type": "markdown",
   "id": "66053689",
   "metadata": {},
   "source": [
    "## Chances of winning with more than one lottery ticket\n",
    "\n",
    "Lottery ticket addicts often play more than one ticket (per drawing), thinking that it increases their winning chances significantly.  Although this does increase their chances of winning, it is nowhere near significant, which is what we want to demonstrate in this next section.  The functionality below will allow users to input any number of tickets and their chances of winning will be output."
   ]
  },
  {
   "cell_type": "code",
   "execution_count": 12,
   "id": "50afe463",
   "metadata": {},
   "outputs": [],
   "source": [
    "# Define a function that outputs the chance of winning given a number of lottery tickets purchased\n",
    "def multi_ticket_probability(num_tickets):\n",
    "    total_outcomes = combinations(49, 6)\n",
    "    probability_pct = num_tickets / total_outcomes\n",
    "    combinations_simplified = round(total_outcomes / num_tickets)\n",
    "    print(\"The chance of you winning big with {:,} lottery ticket numbers is {:.7%}.  This translates to a 1 in {:,} chance of winning.\".format(num_tickets, probability_pct, combinations_simplified))"
   ]
  },
  {
   "cell_type": "code",
   "execution_count": 13,
   "id": "abcc59d3",
   "metadata": {},
   "outputs": [
    {
     "name": "stdout",
     "output_type": "stream",
     "text": [
      "The chance of you winning big with 1 lottery ticket numbers is 0.0000072%.  This translates to a 1 in 13,983,816 chance of winning.\n",
      "------------------------\n",
      "The chance of you winning big with 10 lottery ticket numbers is 0.0000715%.  This translates to a 1 in 1,398,382 chance of winning.\n",
      "------------------------\n",
      "The chance of you winning big with 100 lottery ticket numbers is 0.0007151%.  This translates to a 1 in 139,838 chance of winning.\n",
      "------------------------\n",
      "The chance of you winning big with 10,000 lottery ticket numbers is 0.0715112%.  This translates to a 1 in 1,398 chance of winning.\n",
      "------------------------\n",
      "The chance of you winning big with 1,000,000 lottery ticket numbers is 7.1511238%.  This translates to a 1 in 14 chance of winning.\n",
      "------------------------\n",
      "The chance of you winning big with 6,991,908 lottery ticket numbers is 50.0000000%.  This translates to a 1 in 2 chance of winning.\n",
      "------------------------\n",
      "The chance of you winning big with 13,983,816 lottery ticket numbers is 100.0000000%.  This translates to a 1 in 1 chance of winning.\n",
      "------------------------\n"
     ]
    }
   ],
   "source": [
    "# Test the above created function on different numbers of lottery tickets\n",
    "test_inputs = [1, 10, 100, 10000, 1000000, 6991908, 13983816]\n",
    "\n",
    "for test_input in test_inputs:\n",
    "    multi_ticket_probability(test_input)\n",
    "    print('------------------------') # output delimiter"
   ]
  },
  {
   "cell_type": "markdown",
   "id": "9168bb02",
   "metadata": {},
   "source": [
    "## Matching a fewer number of lottery ticket numbers\n",
    "\n",
    "Up until now, we've defined a \"winning\" lottery ticket as one in which *all* six numbers match those drawn from the lottery.  However, there are smaller prizes for lottery ticket holders that match less than six numbers, but greater than 1.  For example, there's a small prize for a lottery ticket where two out of six numbers match.  Same for three, four, and five matches.  \n",
    "\n",
    "The last piece of functionality we'll build below calculates the chances of matching 2 to 5 out of the 6 numbers drawn in the lottery.  This should illustrate to the user how the probability of winning big prizes decreases dramatically as the number of matches required increases.  They will see that even matching three out of six numbers theoretically occurs at a rate of less than 2%."
   ]
  },
  {
   "cell_type": "code",
   "execution_count": 14,
   "id": "278ac74c",
   "metadata": {},
   "outputs": [],
   "source": [
    "# Define a function that takes a number of matches we want and output its probability/chance.\n",
    "def probability_less_6(n):\n",
    "    ticket_combos = combinations(6, n)\n",
    "    remaining_combos = combinations(43, 6 - n)\n",
    "    successful_outcomes = ticket_combos * remaining_combos\n",
    "    \n",
    "    total_combos = combinations(49, 6)\n",
    "    probability_pct = successful_outcomes / total_combos * 100\n",
    "    \n",
    "    combos_simplified = round(total_combos / successful_outcomes)\n",
    "    \n",
    "    print('''Your chances of having {} winning numbers with this ticket are {:.7}%.\n",
    "In other words, you have a 1 in {:,} chances to win.'''.format(n, probability_pct,\n",
    "                                                               int(combos_simplified)))"
   ]
  },
  {
   "cell_type": "code",
   "execution_count": 15,
   "id": "30f36235",
   "metadata": {},
   "outputs": [
    {
     "name": "stdout",
     "output_type": "stream",
     "text": [
      "Your chances of having 2 winning numbers with this ticket are 13.2378%.\n",
      "In other words, you have a 1 in 8 chances to win.\n",
      "--------------------------\n",
      "Your chances of having 3 winning numbers with this ticket are 1.76504%.\n",
      "In other words, you have a 1 in 57 chances to win.\n",
      "--------------------------\n",
      "Your chances of having 4 winning numbers with this ticket are 0.09686197%.\n",
      "In other words, you have a 1 in 1,032 chances to win.\n",
      "--------------------------\n",
      "Your chances of having 5 winning numbers with this ticket are 0.00184499%.\n",
      "In other words, you have a 1 in 54,201 chances to win.\n",
      "--------------------------\n"
     ]
    }
   ],
   "source": [
    "# Test the above created function on different possible inputs\n",
    "for test_input in [2, 3, 4, 5]:\n",
    "    probability_less_6(test_input)\n",
    "    print('--------------------------') # output delimiter"
   ]
  }
 ],
 "metadata": {
  "kernelspec": {
   "display_name": "Python 3 (ipykernel)",
   "language": "python",
   "name": "python3"
  },
  "language_info": {
   "codemirror_mode": {
    "name": "ipython",
    "version": 3
   },
   "file_extension": ".py",
   "mimetype": "text/x-python",
   "name": "python",
   "nbconvert_exporter": "python",
   "pygments_lexer": "ipython3",
   "version": "3.9.12"
  }
 },
 "nbformat": 4,
 "nbformat_minor": 5
}
