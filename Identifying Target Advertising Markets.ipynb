{
 "cells": [
  {
   "cell_type": "markdown",
   "id": "d10f28ea",
   "metadata": {},
   "source": [
    "# Identifying Target Advertising Markets\n",
    "\n",
    "Our e-learning company offers programming courses, most of which cover web and mobile development, but also includes other areas such as data science, game development, and more.  We want to promote our products by investing in advertising.\n",
    "\n",
    "**Objective:** Find the two best markets to advertise our products in.\n",
    "\n",
    "## Data\n",
    "\n",
    "Due to cost limitations, we take advantage of existing public data from [freeCodeCamp's 2017 New Coder Survey](https://www.freecodecamp.org/news/we-asked-20-000-people-who-they-are-and-how-theyre-learning-to-code-fff5d668969).  [freeCodeCamp](https://www.freecodecamp.org) is a free e-learning platform offering courses on web development.  The survey attracted new coders with varying interests, including but not exclusively web development, which is ideal for our analysis.  [This GitHub repository](https://github.com/freeCodeCamp/2017-new-coder-survey) contains the public data we will be using."
   ]
  },
  {
   "cell_type": "code",
   "execution_count": 1,
   "id": "c1802b98",
   "metadata": {},
   "outputs": [
    {
     "name": "stdout",
     "output_type": "stream",
     "text": [
      "<class 'pandas.core.frame.DataFrame'>\n",
      "RangeIndex: 18175 entries, 0 to 18174\n",
      "Columns: 136 entries, Age to YouTubeTheNewBoston\n",
      "dtypes: float64(105), object(31)\n",
      "memory usage: 18.9+ MB\n"
     ]
    }
   ],
   "source": [
    "# Import pandas, read in the dataset, and print its summary information\n",
    "import pandas as pd\n",
    "\n",
    "# To avoid truncated output\n",
    "pd.options.display.max_rows = 200\n",
    "\n",
    "data = pd.read_csv(\"2017-fCC-New-Coders-Survey-Data.csv\", low_memory = False) # low_memory = False to silence dtypes warning\n",
    "\n",
    "data.info()"
   ]
  },
  {
   "cell_type": "code",
   "execution_count": 2,
   "id": "8a685750",
   "metadata": {},
   "outputs": [
    {
     "data": {
      "text/html": [
       "<div>\n",
       "<style scoped>\n",
       "    .dataframe tbody tr th:only-of-type {\n",
       "        vertical-align: middle;\n",
       "    }\n",
       "\n",
       "    .dataframe tbody tr th {\n",
       "        vertical-align: top;\n",
       "    }\n",
       "\n",
       "    .dataframe thead th {\n",
       "        text-align: right;\n",
       "    }\n",
       "</style>\n",
       "<table border=\"1\" class=\"dataframe\">\n",
       "  <thead>\n",
       "    <tr style=\"text-align: right;\">\n",
       "      <th></th>\n",
       "      <th>Age</th>\n",
       "      <th>AttendedBootcamp</th>\n",
       "      <th>BootcampFinish</th>\n",
       "      <th>BootcampLoanYesNo</th>\n",
       "      <th>BootcampName</th>\n",
       "      <th>BootcampRecommend</th>\n",
       "      <th>ChildrenNumber</th>\n",
       "      <th>CityPopulation</th>\n",
       "      <th>CodeEventConferences</th>\n",
       "      <th>CodeEventDjangoGirls</th>\n",
       "      <th>...</th>\n",
       "      <th>YouTubeFCC</th>\n",
       "      <th>YouTubeFunFunFunction</th>\n",
       "      <th>YouTubeGoogleDev</th>\n",
       "      <th>YouTubeLearnCode</th>\n",
       "      <th>YouTubeLevelUpTuts</th>\n",
       "      <th>YouTubeMIT</th>\n",
       "      <th>YouTubeMozillaHacks</th>\n",
       "      <th>YouTubeOther</th>\n",
       "      <th>YouTubeSimplilearn</th>\n",
       "      <th>YouTubeTheNewBoston</th>\n",
       "    </tr>\n",
       "  </thead>\n",
       "  <tbody>\n",
       "    <tr>\n",
       "      <th>0</th>\n",
       "      <td>27.0</td>\n",
       "      <td>0.0</td>\n",
       "      <td>NaN</td>\n",
       "      <td>NaN</td>\n",
       "      <td>NaN</td>\n",
       "      <td>NaN</td>\n",
       "      <td>NaN</td>\n",
       "      <td>more than 1 million</td>\n",
       "      <td>NaN</td>\n",
       "      <td>NaN</td>\n",
       "      <td>...</td>\n",
       "      <td>NaN</td>\n",
       "      <td>NaN</td>\n",
       "      <td>NaN</td>\n",
       "      <td>NaN</td>\n",
       "      <td>NaN</td>\n",
       "      <td>NaN</td>\n",
       "      <td>NaN</td>\n",
       "      <td>NaN</td>\n",
       "      <td>NaN</td>\n",
       "      <td>NaN</td>\n",
       "    </tr>\n",
       "    <tr>\n",
       "      <th>1</th>\n",
       "      <td>34.0</td>\n",
       "      <td>0.0</td>\n",
       "      <td>NaN</td>\n",
       "      <td>NaN</td>\n",
       "      <td>NaN</td>\n",
       "      <td>NaN</td>\n",
       "      <td>NaN</td>\n",
       "      <td>less than 100,000</td>\n",
       "      <td>NaN</td>\n",
       "      <td>NaN</td>\n",
       "      <td>...</td>\n",
       "      <td>1.0</td>\n",
       "      <td>NaN</td>\n",
       "      <td>NaN</td>\n",
       "      <td>NaN</td>\n",
       "      <td>NaN</td>\n",
       "      <td>NaN</td>\n",
       "      <td>NaN</td>\n",
       "      <td>NaN</td>\n",
       "      <td>NaN</td>\n",
       "      <td>NaN</td>\n",
       "    </tr>\n",
       "    <tr>\n",
       "      <th>2</th>\n",
       "      <td>21.0</td>\n",
       "      <td>0.0</td>\n",
       "      <td>NaN</td>\n",
       "      <td>NaN</td>\n",
       "      <td>NaN</td>\n",
       "      <td>NaN</td>\n",
       "      <td>NaN</td>\n",
       "      <td>more than 1 million</td>\n",
       "      <td>NaN</td>\n",
       "      <td>NaN</td>\n",
       "      <td>...</td>\n",
       "      <td>NaN</td>\n",
       "      <td>NaN</td>\n",
       "      <td>NaN</td>\n",
       "      <td>1.0</td>\n",
       "      <td>1.0</td>\n",
       "      <td>NaN</td>\n",
       "      <td>NaN</td>\n",
       "      <td>NaN</td>\n",
       "      <td>NaN</td>\n",
       "      <td>NaN</td>\n",
       "    </tr>\n",
       "    <tr>\n",
       "      <th>3</th>\n",
       "      <td>26.0</td>\n",
       "      <td>0.0</td>\n",
       "      <td>NaN</td>\n",
       "      <td>NaN</td>\n",
       "      <td>NaN</td>\n",
       "      <td>NaN</td>\n",
       "      <td>NaN</td>\n",
       "      <td>between 100,000 and 1 million</td>\n",
       "      <td>NaN</td>\n",
       "      <td>NaN</td>\n",
       "      <td>...</td>\n",
       "      <td>1.0</td>\n",
       "      <td>1.0</td>\n",
       "      <td>NaN</td>\n",
       "      <td>NaN</td>\n",
       "      <td>1.0</td>\n",
       "      <td>NaN</td>\n",
       "      <td>NaN</td>\n",
       "      <td>NaN</td>\n",
       "      <td>NaN</td>\n",
       "      <td>NaN</td>\n",
       "    </tr>\n",
       "    <tr>\n",
       "      <th>4</th>\n",
       "      <td>20.0</td>\n",
       "      <td>0.0</td>\n",
       "      <td>NaN</td>\n",
       "      <td>NaN</td>\n",
       "      <td>NaN</td>\n",
       "      <td>NaN</td>\n",
       "      <td>NaN</td>\n",
       "      <td>between 100,000 and 1 million</td>\n",
       "      <td>NaN</td>\n",
       "      <td>NaN</td>\n",
       "      <td>...</td>\n",
       "      <td>NaN</td>\n",
       "      <td>NaN</td>\n",
       "      <td>NaN</td>\n",
       "      <td>NaN</td>\n",
       "      <td>NaN</td>\n",
       "      <td>NaN</td>\n",
       "      <td>NaN</td>\n",
       "      <td>NaN</td>\n",
       "      <td>NaN</td>\n",
       "      <td>NaN</td>\n",
       "    </tr>\n",
       "  </tbody>\n",
       "</table>\n",
       "<p>5 rows × 136 columns</p>\n",
       "</div>"
      ],
      "text/plain": [
       "    Age  AttendedBootcamp  BootcampFinish  BootcampLoanYesNo BootcampName  \\\n",
       "0  27.0               0.0             NaN                NaN          NaN   \n",
       "1  34.0               0.0             NaN                NaN          NaN   \n",
       "2  21.0               0.0             NaN                NaN          NaN   \n",
       "3  26.0               0.0             NaN                NaN          NaN   \n",
       "4  20.0               0.0             NaN                NaN          NaN   \n",
       "\n",
       "   BootcampRecommend  ChildrenNumber                 CityPopulation  \\\n",
       "0                NaN             NaN            more than 1 million   \n",
       "1                NaN             NaN              less than 100,000   \n",
       "2                NaN             NaN            more than 1 million   \n",
       "3                NaN             NaN  between 100,000 and 1 million   \n",
       "4                NaN             NaN  between 100,000 and 1 million   \n",
       "\n",
       "   CodeEventConferences  CodeEventDjangoGirls  ...  YouTubeFCC  \\\n",
       "0                   NaN                   NaN  ...         NaN   \n",
       "1                   NaN                   NaN  ...         1.0   \n",
       "2                   NaN                   NaN  ...         NaN   \n",
       "3                   NaN                   NaN  ...         1.0   \n",
       "4                   NaN                   NaN  ...         NaN   \n",
       "\n",
       "   YouTubeFunFunFunction  YouTubeGoogleDev  YouTubeLearnCode  \\\n",
       "0                    NaN               NaN               NaN   \n",
       "1                    NaN               NaN               NaN   \n",
       "2                    NaN               NaN               1.0   \n",
       "3                    1.0               NaN               NaN   \n",
       "4                    NaN               NaN               NaN   \n",
       "\n",
       "   YouTubeLevelUpTuts  YouTubeMIT  YouTubeMozillaHacks YouTubeOther  \\\n",
       "0                 NaN         NaN                  NaN          NaN   \n",
       "1                 NaN         NaN                  NaN          NaN   \n",
       "2                 1.0         NaN                  NaN          NaN   \n",
       "3                 1.0         NaN                  NaN          NaN   \n",
       "4                 NaN         NaN                  NaN          NaN   \n",
       "\n",
       "   YouTubeSimplilearn  YouTubeTheNewBoston  \n",
       "0                 NaN                  NaN  \n",
       "1                 NaN                  NaN  \n",
       "2                 NaN                  NaN  \n",
       "3                 NaN                  NaN  \n",
       "4                 NaN                  NaN  \n",
       "\n",
       "[5 rows x 136 columns]"
      ]
     },
     "execution_count": 2,
     "metadata": {},
     "output_type": "execute_result"
    }
   ],
   "source": [
    "# Print first five rows of the dataset\n",
    "data.head()"
   ]
  },
  {
   "cell_type": "markdown",
   "id": "714622a5",
   "metadata": {},
   "source": [
    "## Sample representation of population\n",
    "\n",
    "We would like to generalize our analysis to a *population* of new coders that are interested in the subjects we offer.  Before starting the analysis on our sample data, we must first understand whether it is representative of our population of interest. This is important because freeCodeCamp only offers courses on web development, so it is possible that more survey participants are attracted to that particular field and not to other fields which we offer courses in."
   ]
  },
  {
   "cell_type": "code",
   "execution_count": 3,
   "id": "3c6b2910",
   "metadata": {},
   "outputs": [
    {
     "data": {
      "text/plain": [
       "Full-Stack Web Developer                                                                                                                                                                                                                                                                    0.117706\n",
       "  Front-End Web Developer                                                                                                                                                                                                                                                                   0.064359\n",
       "  Data Scientist                                                                                                                                                                                                                                                                            0.021739\n",
       "Back-End Web Developer                                                                                                                                                                                                                                                                      0.020309\n",
       "  Mobile Developer                                                                                                                                                                                                                                                                          0.016733\n",
       "                                                                                                                                                                                                                                                                                              ...   \n",
       "  Front-End Web Developer,   DevOps / SysAdmin,   Mobile Developer, Full-Stack Web Developer                                                                                                                                                                                                0.000143\n",
       "Back-End Web Developer,   Front-End Web Developer, Data Engineer, Full-Stack Web Developer,   Mobile Developer                                                                                                                                                                              0.000143\n",
       "Back-End Web Developer,   User Experience Designer,   Mobile Developer, Game Developer,   Front-End Web Developer, Full-Stack Web Developer                                                                                                                                                 0.000143\n",
       "  Front-End Web Developer,   Mobile Developer, Back-End Web Developer, Full-Stack Web Developer, Data Engineer                                                                                                                                                                              0.000143\n",
       "  DevOps / SysAdmin,   Mobile Developer,   Product Manager, Game Developer,   Front-End Web Developer, Data Engineer,   Quality Assurance Engineer,   User Experience Designer, Back-End Web Developer,   Data Scientist, Full-Stack Web Developer, Information Security, IT specialist     0.000143\n",
       "Name: JobRoleInterest, Length: 3213, dtype: float64"
      ]
     },
     "execution_count": 3,
     "metadata": {},
     "output_type": "execute_result"
    }
   ],
   "source": [
    "# Generate frequency table of the survey participants' job interests\n",
    "data[\"JobRoleInterest\"].value_counts(normalize = True)"
   ]
  },
  {
   "cell_type": "markdown",
   "id": "0b3fe267",
   "metadata": {},
   "source": [
    "There's a lot of categories since the options consist of all combinations of interest by survey participants.  To better understand the results, we need to further summarize the data.  First, we'll generate a frequency table showing the percentage of participants interested in only one role vs. two roles vs. three roles, and so on.  Then, we'll look at what percentage of participants expressed interest in mobile or web development (since those seem to show up very often) vs. those who did *not* choose web or mobile development as an interest."
   ]
  },
  {
   "cell_type": "code",
   "execution_count": 4,
   "id": "00590125",
   "metadata": {},
   "outputs": [
    {
     "data": {
      "text/plain": [
       "1     0.316505\n",
       "3     0.158896\n",
       "4     0.152174\n",
       "5     0.120423\n",
       "2     0.108839\n",
       "6     0.067220\n",
       "7     0.038616\n",
       "8     0.017592\n",
       "9     0.009868\n",
       "10    0.004720\n",
       "12    0.003003\n",
       "11    0.001859\n",
       "13    0.000286\n",
       "Name: JobRoleInterest, dtype: float64"
      ]
     },
     "execution_count": 4,
     "metadata": {},
     "output_type": "execute_result"
    }
   ],
   "source": [
    "# Drop na's and then split the options to determine the number of options chosen by survey participants\n",
    "role_no_na = data[\"JobRoleInterest\"].dropna()\n",
    "role_splits = role_no_na.str.split(\",\")\n",
    "\n",
    "role_num = role_splits.apply(lambda x: len(x))\n",
    "role_num.value_counts(normalize = True)"
   ]
  },
  {
   "cell_type": "code",
   "execution_count": 5,
   "id": "419785d1",
   "metadata": {},
   "outputs": [
    {
     "data": {
      "text/plain": [
       "True     0.862414\n",
       "False    0.137586\n",
       "Name: JobRoleInterest, dtype: float64"
      ]
     },
     "execution_count": 5,
     "metadata": {},
     "output_type": "execute_result"
    }
   ],
   "source": [
    "# Generate a normalized frequency table of those interested in web or mobile development\n",
    "# vs. those NOT interested in web or mobile development\n",
    "web_or_mobile = role_no_na.str.contains(\"Web Developer|Mobile Developer\")\n",
    "web_or_mobile.value_counts(normalize = True)"
   ]
  },
  {
   "cell_type": "markdown",
   "id": "5233f4ce",
   "metadata": {},
   "source": [
    "32% of survey participants expressed an interest in only one job role, none have interest in two different job roles, and 16% expressed interest in three different job roles.  In addition, over 86% of survey participants have some interest in web or mobile development.  Because our focus is on web and mobile development, the sample survey results data we have is indeed representative of our population of interest.\n",
    "\n",
    "## Country of residence of survey participants\n",
    "\n",
    "For this analysis, we will think of each country as individual markets.  One indicator of a good market to advertise in is the number of potential customers."
   ]
  },
  {
   "cell_type": "code",
   "execution_count": 6,
   "id": "09ec89b1",
   "metadata": {},
   "outputs": [
    {
     "data": {
      "text/html": [
       "<div>\n",
       "<style scoped>\n",
       "    .dataframe tbody tr th:only-of-type {\n",
       "        vertical-align: middle;\n",
       "    }\n",
       "\n",
       "    .dataframe tbody tr th {\n",
       "        vertical-align: top;\n",
       "    }\n",
       "\n",
       "    .dataframe thead th {\n",
       "        text-align: right;\n",
       "    }\n",
       "</style>\n",
       "<table border=\"1\" class=\"dataframe\">\n",
       "  <thead>\n",
       "    <tr style=\"text-align: right;\">\n",
       "      <th></th>\n",
       "      <th>Absolute Frequency</th>\n",
       "      <th>Percentage</th>\n",
       "    </tr>\n",
       "  </thead>\n",
       "  <tbody>\n",
       "    <tr>\n",
       "      <th>United States of America</th>\n",
       "      <td>3125</td>\n",
       "      <td>0.457005</td>\n",
       "    </tr>\n",
       "    <tr>\n",
       "      <th>India</th>\n",
       "      <td>528</td>\n",
       "      <td>0.077216</td>\n",
       "    </tr>\n",
       "    <tr>\n",
       "      <th>United Kingdom</th>\n",
       "      <td>315</td>\n",
       "      <td>0.046066</td>\n",
       "    </tr>\n",
       "    <tr>\n",
       "      <th>Canada</th>\n",
       "      <td>260</td>\n",
       "      <td>0.038023</td>\n",
       "    </tr>\n",
       "    <tr>\n",
       "      <th>Poland</th>\n",
       "      <td>131</td>\n",
       "      <td>0.019158</td>\n",
       "    </tr>\n",
       "    <tr>\n",
       "      <th>Brazil</th>\n",
       "      <td>129</td>\n",
       "      <td>0.018865</td>\n",
       "    </tr>\n",
       "    <tr>\n",
       "      <th>Germany</th>\n",
       "      <td>125</td>\n",
       "      <td>0.018280</td>\n",
       "    </tr>\n",
       "    <tr>\n",
       "      <th>Australia</th>\n",
       "      <td>112</td>\n",
       "      <td>0.016379</td>\n",
       "    </tr>\n",
       "    <tr>\n",
       "      <th>Russia</th>\n",
       "      <td>102</td>\n",
       "      <td>0.014917</td>\n",
       "    </tr>\n",
       "    <tr>\n",
       "      <th>Ukraine</th>\n",
       "      <td>89</td>\n",
       "      <td>0.013016</td>\n",
       "    </tr>\n",
       "  </tbody>\n",
       "</table>\n",
       "</div>"
      ],
      "text/plain": [
       "                          Absolute Frequency  Percentage\n",
       "United States of America                3125    0.457005\n",
       "India                                    528    0.077216\n",
       "United Kingdom                           315    0.046066\n",
       "Canada                                   260    0.038023\n",
       "Poland                                   131    0.019158\n",
       "Brazil                                   129    0.018865\n",
       "Germany                                  125    0.018280\n",
       "Australia                                112    0.016379\n",
       "Russia                                   102    0.014917\n",
       "Ukraine                                   89    0.013016"
      ]
     },
     "execution_count": 6,
     "metadata": {},
     "output_type": "execute_result"
    }
   ],
   "source": [
    "data_clean = data[data[\"JobRoleInterest\"].notnull()].copy()\n",
    "\n",
    "abs_freqs = data_clean[\"CountryLive\"].value_counts()\n",
    "pct_freqs = data_clean[\"CountryLive\"].value_counts(normalize = True)\n",
    "\n",
    "pd.DataFrame(data = {\"Absolute Frequency\": abs_freqs,\n",
    "                    \"Percentage\": pct_freqs})[:10]"
   ]
  },
  {
   "cell_type": "markdown",
   "id": "90f21838",
   "metadata": {},
   "source": [
    "Close to half of the survey participants live in the United States.  The next most popular country is India, representing 8% of the sample.  The United Kingdom and Canada follow with 5% and 4% respectively.  Based on this information, it is clear that the United States would be a great market to advertise in.  The second market would be either India, the United Kingdom, or Canada.\n",
    "\n",
    "## Exploring amount spent on education\n",
    "\n",
    "Now that we've narrowed down potential target markets to four countries, we next explore how much money survey participants spent on learning materials.  This might give an indication as to how valuable paid resources are compared to free resources for each market."
   ]
  },
  {
   "cell_type": "code",
   "execution_count": 7,
   "id": "d3575c78",
   "metadata": {},
   "outputs": [
    {
     "data": {
      "text/plain": [
       "675"
      ]
     },
     "execution_count": 7,
     "metadata": {},
     "output_type": "execute_result"
    }
   ],
   "source": [
    "# To avoid dividing by zero, replace zero months of programming to one\n",
    "data_clean[\"MonthsProgramming\"].replace(to_replace = 0, value = 1, inplace = True)\n",
    "\n",
    "# Create new column representing the amount per month spent on learning\n",
    "data_clean[\"spend_per_mo\"] = data_clean[\"MoneyForLearning\"] / data_clean[\"MonthsProgramming\"]\n",
    "\n",
    "# Print the number of null values of the new column\n",
    "data_clean[\"spend_per_mo\"].isnull().sum()"
   ]
  },
  {
   "cell_type": "code",
   "execution_count": 8,
   "id": "8cc91fa8",
   "metadata": {},
   "outputs": [
    {
     "data": {
      "text/plain": [
       "CountryLive\n",
       "United States of America    227.997996\n",
       "India                       135.100982\n",
       "United Kingdom               45.534443\n",
       "Canada                      113.510961\n",
       "Name: spend_per_mo, dtype: float64"
      ]
     },
     "execution_count": 8,
     "metadata": {},
     "output_type": "execute_result"
    }
   ],
   "source": [
    "# Remove all rows with no country of residence or spend per month information\n",
    "data_clean = data_clean[data_clean[\"spend_per_mo\"].notnull()]\n",
    "data_clean = data_clean[data_clean[\"CountryLive\"].notnull()]\n",
    "\n",
    "# Look at average spend per month in the four potential target markets\n",
    "country_means = data_clean.groupby(by = \"CountryLive\").mean()[[\"spend_per_mo\"]]\n",
    "country_means[\"spend_per_mo\"][[\"United States of America\", \"India\", \"United Kingdom\", \"Canada\"]]"
   ]
  },
  {
   "cell_type": "markdown",
   "id": "04201472",
   "metadata": {},
   "source": [
    "Again, it's clear that the United States is the best market to advertise our e-learning courses to in terms of money spent on education, and India comes second."
   ]
  },
  {
   "cell_type": "code",
   "execution_count": 9,
   "id": "0ebd296f",
   "metadata": {},
   "outputs": [
    {
     "data": {
      "image/png": "[encoded data removed]",
      "text/plain": [
       "<Figure size 432x288 with 1 Axes>"
      ]
     },
     "metadata": {
      "needs_background": "light"
     },
     "output_type": "display_data"
    }
   ],
   "source": [
    "# \n",
    "four_countries = data_clean[data_clean[\"CountryLive\"].str.contains(\"United States of America|India|Canada|United Kingdom\")]\n",
    "\n",
    "import seaborn as sns\n",
    "import matplotlib.pyplot as plt\n",
    "\n",
    "sns.boxplot(y = \"spend_per_mo\", x = \"CountryLive\", data = four_countries)\n",
    "plt.ylabel(\"USD spend per month\")\n",
    "plt.xlabel(\"Country\")\n",
    "plt.xticks(range(4), [\"US\", \"UK\", \"India\", \"Canada\"])\n",
    "\n",
    "plt.show()"
   ]
  },
  {
   "cell_type": "code",
   "execution_count": null,
   "id": "9cd09580",
   "metadata": {},
   "outputs": [],
   "source": []
  }
 ],
 "metadata": {
  "kernelspec": {
   "display_name": "Python 3 (ipykernel)",
   "language": "python",
   "name": "python3"
  },
  "language_info": {
   "codemirror_mode": {
    "name": "ipython",
    "version": 3
   },
   "file_extension": ".py",
   "mimetype": "text/x-python",
   "name": "python",
   "nbconvert_exporter": "python",
   "pygments_lexer": "ipython3",
   "version": "3.9.12"
  }
 },
 "nbformat": 4,
 "nbformat_minor": 5
}
