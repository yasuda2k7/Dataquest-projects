{
 "cells": [
  {
   "cell_type": "markdown",
   "metadata": {},
   "source": [
    "# Using SQL to answer business questions\n",
    "\n",
    "In this project, we will be using a fictional database and SQL to answer potential business questions (also fictional).\n",
    "\n",
    "We start by connecting Jupyter Notebook to the database file `Chinook.db`."
   ]
  },
  {
   "cell_type": "code",
   "execution_count": 1,
   "metadata": {
    "collapsed": false
   },
   "outputs": [
    {
     "data": {
      "text/plain": [
       "'Connected: None@chinook.db'"
      ]
     },
     "execution_count": 1,
     "metadata": {},
     "output_type": "execute_result"
    }
   ],
   "source": [
    "%%capture\n",
    "%load_ext sql\n",
    "%sql sqlite:///chinook.db"
   ]
  },
  {
   "cell_type": "markdown",
   "metadata": {},
   "source": [
    "## Chinook database tables and views"
   ]
  },
  {
   "cell_type": "code",
   "execution_count": 2,
   "metadata": {
    "collapsed": false
   },
   "outputs": [
    {
     "name": "stdout",
     "output_type": "stream",
     "text": [
      "Done.\n"
     ]
    },
    {
     "data": {
      "text/html": [
       "<table>\n",
       "    <tr>\n",
       "        <th>name</th>\n",
       "        <th>type</th>\n",
       "    </tr>\n",
       "    <tr>\n",
       "        <td>album</td>\n",
       "        <td>table</td>\n",
       "    </tr>\n",
       "    <tr>\n",
       "        <td>artist</td>\n",
       "        <td>table</td>\n",
       "    </tr>\n",
       "    <tr>\n",
       "        <td>customer</td>\n",
       "        <td>table</td>\n",
       "    </tr>\n",
       "    <tr>\n",
       "        <td>employee</td>\n",
       "        <td>table</td>\n",
       "    </tr>\n",
       "    <tr>\n",
       "        <td>genre</td>\n",
       "        <td>table</td>\n",
       "    </tr>\n",
       "    <tr>\n",
       "        <td>invoice</td>\n",
       "        <td>table</td>\n",
       "    </tr>\n",
       "    <tr>\n",
       "        <td>invoice_line</td>\n",
       "        <td>table</td>\n",
       "    </tr>\n",
       "    <tr>\n",
       "        <td>media_type</td>\n",
       "        <td>table</td>\n",
       "    </tr>\n",
       "    <tr>\n",
       "        <td>playlist</td>\n",
       "        <td>table</td>\n",
       "    </tr>\n",
       "    <tr>\n",
       "        <td>playlist_track</td>\n",
       "        <td>table</td>\n",
       "    </tr>\n",
       "    <tr>\n",
       "        <td>track</td>\n",
       "        <td>table</td>\n",
       "    </tr>\n",
       "    <tr>\n",
       "        <td>one_cust</td>\n",
       "        <td>view</td>\n",
       "    </tr>\n",
       "</table>"
      ],
      "text/plain": [
       "[('album', 'table'),\n",
       " ('artist', 'table'),\n",
       " ('customer', 'table'),\n",
       " ('employee', 'table'),\n",
       " ('genre', 'table'),\n",
       " ('invoice', 'table'),\n",
       " ('invoice_line', 'table'),\n",
       " ('media_type', 'table'),\n",
       " ('playlist', 'table'),\n",
       " ('playlist_track', 'table'),\n",
       " ('track', 'table'),\n",
       " ('one_cust', 'view')]"
      ]
     },
     "execution_count": 2,
     "metadata": {},
     "output_type": "execute_result"
    }
   ],
   "source": [
    "%%sql\n",
    "\n",
    "SELECT\n",
    "    name,\n",
    "    type\n",
    "FROM sqlite_master\n",
    "WHERE type IN (\"table\", \"view\");"
   ]
  },
  {
   "cell_type": "markdown",
   "metadata": {},
   "source": [
    "There are 11 tables and 1 view shown above.  \n",
    "\n",
    "## Tracks sold in the US by genre\n",
    "\n",
    "Next, we query the number of tracks sold by genre **in the US** and their percentage of the total."
   ]
  },
  {
   "cell_type": "code",
   "execution_count": 3,
   "metadata": {
    "collapsed": false
   },
   "outputs": [
    {
     "name": "stdout",
     "output_type": "stream",
     "text": [
      "Done.\n"
     ]
    },
    {
     "data": {
      "text/html": [
       "<table>\n",
       "    <tr>\n",
       "        <th>genre</th>\n",
       "        <th>tracks_sum</th>\n",
       "        <th>tracks_pct</th>\n",
       "    </tr>\n",
       "    <tr>\n",
       "        <td>Rock</td>\n",
       "        <td>561</td>\n",
       "        <td>0.5338</td>\n",
       "    </tr>\n",
       "    <tr>\n",
       "        <td>Alternative &amp; Punk</td>\n",
       "        <td>130</td>\n",
       "        <td>0.1237</td>\n",
       "    </tr>\n",
       "    <tr>\n",
       "        <td>Metal</td>\n",
       "        <td>124</td>\n",
       "        <td>0.118</td>\n",
       "    </tr>\n",
       "    <tr>\n",
       "        <td>R&amp;B/Soul</td>\n",
       "        <td>53</td>\n",
       "        <td>0.0504</td>\n",
       "    </tr>\n",
       "    <tr>\n",
       "        <td>Blues</td>\n",
       "        <td>36</td>\n",
       "        <td>0.0343</td>\n",
       "    </tr>\n",
       "    <tr>\n",
       "        <td>Alternative</td>\n",
       "        <td>35</td>\n",
       "        <td>0.0333</td>\n",
       "    </tr>\n",
       "    <tr>\n",
       "        <td>Latin</td>\n",
       "        <td>22</td>\n",
       "        <td>0.0209</td>\n",
       "    </tr>\n",
       "    <tr>\n",
       "        <td>Pop</td>\n",
       "        <td>22</td>\n",
       "        <td>0.0209</td>\n",
       "    </tr>\n",
       "    <tr>\n",
       "        <td>Hip Hop/Rap</td>\n",
       "        <td>20</td>\n",
       "        <td>0.019</td>\n",
       "    </tr>\n",
       "    <tr>\n",
       "        <td>Jazz</td>\n",
       "        <td>14</td>\n",
       "        <td>0.0133</td>\n",
       "    </tr>\n",
       "    <tr>\n",
       "        <td>Easy Listening</td>\n",
       "        <td>13</td>\n",
       "        <td>0.0124</td>\n",
       "    </tr>\n",
       "    <tr>\n",
       "        <td>Reggae</td>\n",
       "        <td>6</td>\n",
       "        <td>0.0057</td>\n",
       "    </tr>\n",
       "    <tr>\n",
       "        <td>Electronica/Dance</td>\n",
       "        <td>5</td>\n",
       "        <td>0.0048</td>\n",
       "    </tr>\n",
       "    <tr>\n",
       "        <td>Classical</td>\n",
       "        <td>4</td>\n",
       "        <td>0.0038</td>\n",
       "    </tr>\n",
       "    <tr>\n",
       "        <td>Heavy Metal</td>\n",
       "        <td>3</td>\n",
       "        <td>0.0029</td>\n",
       "    </tr>\n",
       "    <tr>\n",
       "        <td>Soundtrack</td>\n",
       "        <td>2</td>\n",
       "        <td>0.0019</td>\n",
       "    </tr>\n",
       "    <tr>\n",
       "        <td>TV Shows</td>\n",
       "        <td>1</td>\n",
       "        <td>0.001</td>\n",
       "    </tr>\n",
       "</table>"
      ],
      "text/plain": [
       "[('Rock', 561, 0.5338),\n",
       " ('Alternative & Punk', 130, 0.1237),\n",
       " ('Metal', 124, 0.118),\n",
       " ('R&B/Soul', 53, 0.0504),\n",
       " ('Blues', 36, 0.0343),\n",
       " ('Alternative', 35, 0.0333),\n",
       " ('Latin', 22, 0.0209),\n",
       " ('Pop', 22, 0.0209),\n",
       " ('Hip Hop/Rap', 20, 0.019),\n",
       " ('Jazz', 14, 0.0133),\n",
       " ('Easy Listening', 13, 0.0124),\n",
       " ('Reggae', 6, 0.0057),\n",
       " ('Electronica/Dance', 5, 0.0048),\n",
       " ('Classical', 4, 0.0038),\n",
       " ('Heavy Metal', 3, 0.0029),\n",
       " ('Soundtrack', 2, 0.0019),\n",
       " ('TV Shows', 1, 0.001)]"
      ]
     },
     "execution_count": 3,
     "metadata": {},
     "output_type": "execute_result"
    }
   ],
   "source": [
    "%%sql\n",
    "\n",
    "SELECT\n",
    "    g.name AS genre\n",
    "    ,COUNT(t.track_id) AS tracks_sum\n",
    "    ,ROUND((COUNT(t.track_id) / CAST((\n",
    "        SELECT COUNT(*)\n",
    "        FROM track t\n",
    "        INNER JOIN invoice_line il ON t.track_id = il.track_id\n",
    "        INNER JOIN invoice i ON il.invoice_id = i.invoice_id\n",
    "        INNER JOIN customer c ON i.customer_id = c.customer_id\n",
    "        WHERE c.country = \"USA\"\n",
    "    ) AS FLOAT)), 4) AS tracks_pct\n",
    "FROM genre g\n",
    "INNER JOIN track t ON g.genre_id = t.genre_id\n",
    "INNER JOIN invoice_line il ON t.track_id = il.track_id\n",
    "INNER JOIN invoice i ON il.invoice_id = i.invoice_id\n",
    "INNER JOIN customer c ON i.customer_id = c.customer_id\n",
    "WHERE c.country = \"USA\"\n",
    "GROUP BY genre\n",
    "ORDER BY tracks_sum DESC\n",
    ";"
   ]
  },
  {
   "cell_type": "markdown",
   "metadata": {},
   "source": [
    "We can see that Rock tracks sold make up more than half of the total (53.4%), followed by Alternative & Punk (12.4%) and Metal (11.8%).  \n",
    "\n",
    "## Total sales by sales representative\n",
    "\n",
    "Let's see how each sales representative performed by looking at their total sales amounts below."
   ]
  },
  {
   "cell_type": "code",
   "execution_count": 4,
   "metadata": {
    "collapsed": false
   },
   "outputs": [
    {
     "name": "stdout",
     "output_type": "stream",
     "text": [
      "Done.\n"
     ]
    },
    {
     "data": {
      "text/html": [
       "<table>\n",
       "    <tr>\n",
       "        <th>employee_id</th>\n",
       "        <th>ee_name</th>\n",
       "        <th>sales_tot</th>\n",
       "    </tr>\n",
       "    <tr>\n",
       "        <td>3</td>\n",
       "        <td>Peacock, Jane</td>\n",
       "        <td>1731.51</td>\n",
       "    </tr>\n",
       "    <tr>\n",
       "        <td>4</td>\n",
       "        <td>Park, Margaret</td>\n",
       "        <td>1584.0</td>\n",
       "    </tr>\n",
       "    <tr>\n",
       "        <td>5</td>\n",
       "        <td>Johnson, Steve</td>\n",
       "        <td>1393.92</td>\n",
       "    </tr>\n",
       "</table>"
      ],
      "text/plain": [
       "[(3, 'Peacock, Jane', 1731.51),\n",
       " (4, 'Park, Margaret', 1584.0),\n",
       " (5, 'Johnson, Steve', 1393.92)]"
      ]
     },
     "execution_count": 4,
     "metadata": {},
     "output_type": "execute_result"
    }
   ],
   "source": [
    "%%sql\n",
    "\n",
    "SELECT DISTINCT\n",
    "    e.employee_id\n",
    "    ,e.last_name || \", \" || e.first_name AS ee_name\n",
    "    ,ROUND(SUM(i.total), 2) AS sales_tot\n",
    "FROM employee e\n",
    "INNER JOIN customer c ON e.employee_id = c.support_rep_id\n",
    "INNER JOIN invoice i ON c.customer_id = i.customer_id\n",
    "GROUP BY 1,2"
   ]
  },
  {
   "cell_type": "markdown",
   "metadata": {},
   "source": [
    "There is about a 20% difference between the highest and lowest performing sales reps.  Jane Peacock leads with \\$1,730 in sales, followed by Maraget Park with \\$1,580, and finally Steve Johnson with \\$1,390."
   ]
  },
  {
   "cell_type": "code",
   "execution_count": 5,
   "metadata": {
    "collapsed": false
   },
   "outputs": [
    {
     "name": "stdout",
     "output_type": "stream",
     "text": [
      "(sqlite3.OperationalError) table one_cust already exists\n",
      "[SQL: CREATE VIEW one_cust AS\n",
      "    SELECT *\n",
      "    FROM customer\n",
      "    GROUP BY customer_id\n",
      "    HAVING COUNT(customer_id) = 1\n",
      "    ;]\n",
      "(Background on this error at: http://sqlalche.me/e/13/e3q8)\n"
     ]
    }
   ],
   "source": [
    "%%sql\n",
    "\n",
    "CREATE VIEW one_cust AS\n",
    "    SELECT *\n",
    "    FROM customer\n",
    "    GROUP BY customer_id\n",
    "    HAVING COUNT(customer_id) = 1\n",
    "    ;"
   ]
  },
  {
   "cell_type": "markdown",
   "metadata": {},
   "source": [
    "## Various statistics by country\n",
    "\n",
    "Next, we look at various statistics by country, such as number of customers, total sales, average customer sales, and average order amounts.\n",
    "\n",
    "The two subqueries in the FROM clause below calculates sums/counts and groups the countries with only one customer into an \"Other\" category.  The outermost query then calculates sums/averages by country with the newly created \"Other\" category.  It also sorts the final table such that the \"Other\" category is the last row (even though it has the most customer counts)."
   ]
  },
  {
   "cell_type": "code",
   "execution_count": 6,
   "metadata": {
    "collapsed": false
   },
   "outputs": [
    {
     "name": "stdout",
     "output_type": "stream",
     "text": [
      "Done.\n"
     ]
    },
    {
     "data": {
      "text/html": [
       "<table>\n",
       "    <tr>\n",
       "        <th>country</th>\n",
       "        <th>customers</th>\n",
       "        <th>sales_tot</th>\n",
       "        <th>avg_cust_sales</th>\n",
       "        <th>avg_order_amt</th>\n",
       "        <th>sort</th>\n",
       "    </tr>\n",
       "    <tr>\n",
       "        <td>USA</td>\n",
       "        <td>13</td>\n",
       "        <td>1040.49</td>\n",
       "        <td>80.04</td>\n",
       "        <td>7.94</td>\n",
       "        <td>0</td>\n",
       "    </tr>\n",
       "    <tr>\n",
       "        <td>Canada</td>\n",
       "        <td>8</td>\n",
       "        <td>535.59</td>\n",
       "        <td>66.95</td>\n",
       "        <td>7.05</td>\n",
       "        <td>0</td>\n",
       "    </tr>\n",
       "    <tr>\n",
       "        <td>Brazil</td>\n",
       "        <td>5</td>\n",
       "        <td>427.68</td>\n",
       "        <td>85.54</td>\n",
       "        <td>7.01</td>\n",
       "        <td>0</td>\n",
       "    </tr>\n",
       "    <tr>\n",
       "        <td>France</td>\n",
       "        <td>5</td>\n",
       "        <td>389.07</td>\n",
       "        <td>77.81</td>\n",
       "        <td>7.78</td>\n",
       "        <td>0</td>\n",
       "    </tr>\n",
       "    <tr>\n",
       "        <td>Germany</td>\n",
       "        <td>4</td>\n",
       "        <td>334.62</td>\n",
       "        <td>83.66</td>\n",
       "        <td>8.16</td>\n",
       "        <td>0</td>\n",
       "    </tr>\n",
       "    <tr>\n",
       "        <td>United Kingdom</td>\n",
       "        <td>3</td>\n",
       "        <td>245.52</td>\n",
       "        <td>81.84</td>\n",
       "        <td>8.77</td>\n",
       "        <td>0</td>\n",
       "    </tr>\n",
       "    <tr>\n",
       "        <td>Czech Republic</td>\n",
       "        <td>2</td>\n",
       "        <td>273.24</td>\n",
       "        <td>136.62</td>\n",
       "        <td>9.11</td>\n",
       "        <td>0</td>\n",
       "    </tr>\n",
       "    <tr>\n",
       "        <td>India</td>\n",
       "        <td>2</td>\n",
       "        <td>183.15</td>\n",
       "        <td>91.58</td>\n",
       "        <td>8.72</td>\n",
       "        <td>0</td>\n",
       "    </tr>\n",
       "    <tr>\n",
       "        <td>Portugal</td>\n",
       "        <td>2</td>\n",
       "        <td>185.13</td>\n",
       "        <td>92.57</td>\n",
       "        <td>6.38</td>\n",
       "        <td>0</td>\n",
       "    </tr>\n",
       "    <tr>\n",
       "        <td>Other</td>\n",
       "        <td>15</td>\n",
       "        <td>1094.94</td>\n",
       "        <td>5.02</td>\n",
       "        <td>7.45</td>\n",
       "        <td>1</td>\n",
       "    </tr>\n",
       "</table>"
      ],
      "text/plain": [
       "[('USA', 13, 1040.49, 80.04, 7.94, 0),\n",
       " ('Canada', 8, 535.59, 66.95, 7.05, 0),\n",
       " ('Brazil', 5, 427.68, 85.54, 7.01, 0),\n",
       " ('France', 5, 389.07, 77.81, 7.78, 0),\n",
       " ('Germany', 4, 334.62, 83.66, 8.16, 0),\n",
       " ('United Kingdom', 3, 245.52, 81.84, 8.77, 0),\n",
       " ('Czech Republic', 2, 273.24, 136.62, 9.11, 0),\n",
       " ('India', 2, 183.15, 91.58, 8.72, 0),\n",
       " ('Portugal', 2, 185.13, 92.57, 6.38, 0),\n",
       " ('Other', 15, 1094.94, 5.02, 7.45, 1)]"
      ]
     },
     "execution_count": 6,
     "metadata": {},
     "output_type": "execute_result"
    }
   ],
   "source": [
    "%%sql\n",
    "SELECT\n",
    "country\n",
    ",SUM(customers) AS customers\n",
    ",ROUND(SUM(sales_tot), 2) AS sales_tot\n",
    ",ROUND(CAST(sales_tot AS FLOAT) / SUM(customers), 2) AS avg_cust_sales\n",
    ",ROUND(SUM(sales_tot) / SUM(invoice_id_cnt), 2) AS avg_order_amt\n",
    ",CASE WHEN country = \"Other\" THEN 1 ELSE 0 END AS sort\n",
    "FROM\n",
    "    (SELECT\n",
    "        CASE WHEN customers = 1 THEN \"Other\" ELSE country END AS country\n",
    "        ,customers\n",
    "        ,sales_tot\n",
    "        ,invoice_id_cnt\n",
    "    FROM\n",
    "        (SELECT\n",
    "            c.country\n",
    "            ,COUNT(DISTINCT c.customer_id) AS customers\n",
    "            ,SUM(il.unit_price) AS sales_tot\n",
    "            ,COUNT(DISTINCT i.invoice_id) AS invoice_id_cnt\n",
    "        FROM invoice_line il\n",
    "        INNER JOIN invoice i ON i.invoice_id = il.invoice_id\n",
    "        INNER JOIN customer c ON c.customer_id = i.customer_id\n",
    "        GROUP BY c.country) temp)\n",
    "GROUP BY country\n",
    "ORDER BY sort ASC, customers DESC\n",
    ";"
   ]
  },
  {
   "cell_type": "markdown",
   "metadata": {},
   "source": [
    "The US has the highest numbers of customers and total sales, but other countries have higher average customer sales and/or average order amounts.  For example, the Czech Republic's average customer sales is **\\$137** and average order amount is **\\$9.11**, compared to the US's average customer sales of **\\$80** and average order amount of **\\$7.94**.\n",
    "\n",
    "Note that there are 15 countries with only one customer, which are grouped into the \"Other\" category at the very bottom.\n",
    "\n",
    "## Categorizing invoices by album purchase (or not)\n",
    "\n",
    "Finally, we collate and summarize data on album vs. single track purchases."
   ]
  },
  {
   "cell_type": "code",
   "execution_count": 7,
   "metadata": {
    "collapsed": false
   },
   "outputs": [
    {
     "name": "stdout",
     "output_type": "stream",
     "text": [
      "Done.\n"
     ]
    },
    {
     "data": {
      "text/html": [
       "<table>\n",
       "    <tr>\n",
       "        <th>album</th>\n",
       "        <th>num_invoices</th>\n",
       "        <th>pct</th>\n",
       "    </tr>\n",
       "    <tr>\n",
       "        <td>NO</td>\n",
       "        <td>500</td>\n",
       "        <td>0.814</td>\n",
       "    </tr>\n",
       "    <tr>\n",
       "        <td>YES</td>\n",
       "        <td>114</td>\n",
       "        <td>0.186</td>\n",
       "    </tr>\n",
       "</table>"
      ],
      "text/plain": [
       "[('NO', 500, 0.814), ('YES', 114, 0.186)]"
      ]
     },
     "execution_count": 7,
     "metadata": {},
     "output_type": "execute_result"
    }
   ],
   "source": [
    "%%sql\n",
    "\n",
    "WITH invoice_first_track AS (\n",
    "    SELECT\n",
    "        invoice_id\n",
    "        ,MIN(track_id) AS first_track_id\n",
    "    FROM invoice_line\n",
    "    GROUP BY 1\n",
    "    )\n",
    "\n",
    "SELECT\n",
    "    album\n",
    "    ,COUNT(invoice_id) AS num_invoices\n",
    "    ,ROUND(CAST(COUNT(invoice_id) AS FLOAT) / (SELECT COUNT(*) FROM invoice), 3) AS pct\n",
    "FROM\n",
    "    (SELECT\n",
    "     ifs.*\n",
    "     ,CASE WHEN (SELECT t.track_id\n",
    "                 FROM track t\n",
    "                 WHERE t.album_id = (SELECT t2.album_id\n",
    "                                     FROM track t2\n",
    "                                     WHERE t2.track_id=ifs.first_track_id)\n",
    "                 \n",
    "                 EXCEPT\n",
    "                 \n",
    "                 SELECT il2.track_id\n",
    "                 FROM invoice_line il2\n",
    "                 WHERE il2.invoice_id=ifs.invoice_id) IS NULL\n",
    "     AND (SELECT il2.track_id\n",
    "          FROM invoice_line il2\n",
    "          WHERE il2.invoice_id=ifs.invoice_id\n",
    "          \n",
    "          EXCEPT\n",
    "          \n",
    "          SELECT t.track_id\n",
    "          FROM track t\n",
    "          WHERE t.album_id =(SELECT t2.album_id\n",
    "                             FROM track t2\n",
    "                             WHERE t2.track_id=ifs.first_track_id)) IS NULL\n",
    "     THEN \"YES\" ELSE \"NO\" END AS album\n",
    "     FROM invoice_first_track ifs)\n",
    "GROUP BY album\n",
    ";"
   ]
  },
  {
   "cell_type": "markdown",
   "metadata": {},
   "source": [
    "We can easily see that most invoices (over 80%) are not album purchases and instead are single track orders."
   ]
  }
 ],
 "metadata": {
  "kernelspec": {
   "display_name": "Python 3",
   "language": "python",
   "name": "python3"
  },
  "language_info": {
   "codemirror_mode": {
    "name": "ipython",
    "version": 3
   },
   "file_extension": ".py",
   "mimetype": "text/x-python",
   "name": "python",
   "nbconvert_exporter": "python",
   "pygments_lexer": "ipython3",
   "version": "3.4.3"
  }
 },
 "nbformat": 4,
 "nbformat_minor": 2
}
