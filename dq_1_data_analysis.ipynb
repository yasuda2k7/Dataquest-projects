{
 "cells": [
  {
   "cell_type": "markdown",
   "id": "1a2e248a",
   "metadata": {},
   "source": [
    "# Profitable App Profiles for the App Store and Google Play Markets\n",
    "**Project:** This project is to perform practical data analysis in Python to make data-driven decisions for the kind of app to build and make a profit from.  \n",
    "**Goal:** The goal of this project is to help developers understand what types of apps are likely to attract more users (on the App Store and Google Play).  This is done by collecting and analyzing mobile app data."
   ]
  },
  {
   "cell_type": "markdown",
   "id": "ba1f91ca",
   "metadata": {},
   "source": [
    "**Summary**  \n",
    "1. Google and Apple datasets are opened, read, and explored.\n",
    "    * Field names, number of rows, number of columns, and examples of some rows are looked at.  The data headers (i.e. field names) are also separated from the data.    \n",
    "2. Data cleaning is performed as well as isolating only the specific data of interest for this project.    \n",
    "    * Incorrect data and duplicates are removed (based on the forum discussion thread).  A criteria for which duplicate entry to keep in the data is determined and implemented.\n",
    "    * The impact of incorrect data and duplicates are also looked at in terms of the number of rows remaining in the datsets.\n",
    "    * Non-English and apps that cost money are further removed. Non-English apps are determined using the `ord()` function on each character within app names.\n",
    "3. Analysis is performed on the cleaned data to determine which kind of app to focus building and eventually make a profit from.\n",
    "    * A frequency table function called `freq_table()` and a frequency table display function called `display_table()` are created.  These are then used to analyze the percentage of apps within each genre of both the Google and Apple datasets and make an informed decision."
   ]
  },
  {
   "cell_type": "markdown",
   "id": "a37be2cd",
   "metadata": {},
   "source": [
    "## Opening and Exploring the Data"
   ]
  },
  {
   "cell_type": "markdown",
   "id": "2ff7e2ac",
   "metadata": {},
   "source": [
    "Open and read two datasets, one for Google Play and one for Apple App Store, then store them as lists."
   ]
  },
  {
   "cell_type": "code",
   "execution_count": null,
   "id": "4a608ddc",
   "metadata": {},
   "outputs": [],
   "source": [
    "from csv import reader\n",
    "\n",
    "## Google Play dataset ##\n",
    "opened_file = open('_data/AppleStore.csv')\n",
    "read_file = reader(opened_file)\n",
    "apple = list(read_file)\n",
    "apple_head = apple[0]\n",
    "apple = apple[1:]\n",
    "\n",
    "## App Store dataset ##\n",
    "opened_file = open('_data/googleplaystore.csv')\n",
    "read_file = reader(opened_file)\n",
    "google = list(read_file)\n",
    "google_head = google[0]\n",
    "google = google[1:]"
   ]
  },
  {
   "cell_type": "markdown",
   "id": "2292a51b",
   "metadata": {},
   "source": [
    "Define and use a function `explore_data()` to get a preview, row count, and column count of the two datasets."
   ]
  },
  {
   "cell_type": "code",
   "execution_count": null,
   "id": "40cd9629",
   "metadata": {},
   "outputs": [],
   "source": [
    "def explore_data(dataset, start, end, rows_and_columns=False):\n",
    "    dataset_slice = dataset[start:end]    \n",
    "    for row in dataset_slice:\n",
    "        print(row)\n",
    "        print('\\n')\n",
    "\n",
    "    if rows_and_columns:\n",
    "        print('Number of rows:', len(dataset))\n",
    "        print('Number of columns:', len(dataset[0]))\n",
    "        \n",
    "explore_data(google, 0, 3, True)"
   ]
  },
  {
   "cell_type": "code",
   "execution_count": null,
   "id": "e8dde59c",
   "metadata": {},
   "outputs": [],
   "source": [
    "explore_data(apple, 0, 3, True)"
   ]
  },
  {
   "cell_type": "markdown",
   "id": "707c49a1",
   "metadata": {},
   "source": [
    "View field names of each dataset to see which fields are likely to be useful and which ones may not.  \n",
    "Here is the [documentation](https://www.kaggle.com/datasets/lava18/google-play-store-apps) for the Google dataset.  And here is the [documentation](https://www.kaggle.com/datasets/ramamet4/app-store-apple-data-set-10k-apps) for the Apple dataset."
   ]
  },
  {
   "cell_type": "code",
   "execution_count": null,
   "id": "a9f1dff7",
   "metadata": {},
   "outputs": [],
   "source": [
    "print(google_head)"
   ]
  },
  {
   "cell_type": "markdown",
   "id": "370f768a",
   "metadata": {},
   "source": [
    "In the Google dataset, the columns that could be useful are `'App'`, `'Category'`, `'Rating'`, `'Reviews'`, `'Genres'`, `'Type'`, and `'Price'`."
   ]
  },
  {
   "cell_type": "code",
   "execution_count": null,
   "id": "eaa05abf",
   "metadata": {},
   "outputs": [],
   "source": [
    "print(apple_head)"
   ]
  },
  {
   "cell_type": "markdown",
   "id": "702a2b10",
   "metadata": {},
   "source": [
    "In the Apple dataset, the columns that could be useful are `'user_rating'`, `'rating_count_tot'`, `'track_name'`, `'currency'`, `'price'`, and `'prime_genre'`."
   ]
  },
  {
   "cell_type": "markdown",
   "id": "016af89d",
   "metadata": {},
   "source": [
    "## Deleting Incorrect Data"
   ]
  },
  {
   "cell_type": "code",
   "execution_count": null,
   "id": "8924ea8e",
   "metadata": {},
   "outputs": [],
   "source": [
    "print(google[10471:10473])"
   ]
  },
  {
   "cell_type": "markdown",
   "id": "80552233",
   "metadata": {},
   "source": [
    "Shown above, row 10472 has a 'Rating' of 19, but the maximum rating possible is 5.  As a result, that row gets deleted from the dataset shown below."
   ]
  },
  {
   "cell_type": "code",
   "execution_count": null,
   "id": "39855727",
   "metadata": {},
   "outputs": [],
   "source": [
    "del google[10472]\n",
    "\n",
    "print(google[10471:10473])"
   ]
  },
  {
   "cell_type": "markdown",
   "id": "4cb577e0",
   "metadata": {},
   "source": [
    "## Removing Duplicates"
   ]
  },
  {
   "cell_type": "markdown",
   "id": "30f7fe59",
   "metadata": {},
   "source": [
    "Per this [discussion](https://www.kaggle.com/datasets/lava18/google-play-store-apps/discussion) section, the Google dataset contains duplicates. For example, `'Instagram'` shown below has four rows."
   ]
  },
  {
   "cell_type": "code",
   "execution_count": null,
   "id": "a9d276b0",
   "metadata": {},
   "outputs": [],
   "source": [
    "for app in google:\n",
    "    app_name = app[0]\n",
    "    if app_name == 'Instagram':\n",
    "        print(app)"
   ]
  },
  {
   "cell_type": "markdown",
   "id": "43cf4ac7",
   "metadata": {},
   "source": [
    "Next, the number of duplicates is counted and the unique rows are stored in a new list."
   ]
  },
  {
   "cell_type": "code",
   "execution_count": null,
   "id": "3a215989",
   "metadata": {},
   "outputs": [],
   "source": [
    "duplicate_apps = []\n",
    "unique_apps = []\n",
    "\n",
    "for app in google:\n",
    "    app_name = app[0]\n",
    "    if app_name in unique_apps:\n",
    "        duplicate_apps.append(app_name)\n",
    "    else:\n",
    "        unique_apps.append(app_name)\n",
    "        \n",
    "print(\"Number of duplicate apps in Google dataset: \", len(duplicate_apps))"
   ]
  },
  {
   "cell_type": "markdown",
   "id": "005cc970",
   "metadata": {},
   "source": [
    "Duplicates will not be removed randomy, but instead will be based on the number of reviews.  For example, although there are four rows for `'Instagram'`, they each have differing numbers of reviews.  The row with the most reviews will be kept and the rest will be removed."
   ]
  },
  {
   "cell_type": "code",
   "execution_count": null,
   "id": "3357c349",
   "metadata": {},
   "outputs": [],
   "source": [
    "reviews_max = {}\n",
    "\n",
    "for app in google:\n",
    "    name = app[0]\n",
    "    n_reviews = float(app[3])\n",
    "    \n",
    "    if name in reviews_max and reviews_max[name] < n_reviews:\n",
    "        reviews_max[name] = n_reviews\n",
    "    elif name not in reviews_max:\n",
    "        reviews_max[name] = n_reviews"
   ]
  },
  {
   "cell_type": "markdown",
   "id": "576f1ee4",
   "metadata": {},
   "source": [
    "Check that the `'reviews_max'` dictionary has the expected number of rows and works correctly (i.e. does not include duplicates)."
   ]
  },
  {
   "cell_type": "code",
   "execution_count": null,
   "id": "5e80cee4",
   "metadata": {},
   "outputs": [],
   "source": [
    "len(google) - len(duplicate_apps) - len(reviews_max)"
   ]
  },
  {
   "cell_type": "markdown",
   "id": "48d872d2",
   "metadata": {},
   "source": [
    "Create new Google dataset (list of lists) that does not contain duplicates and does not contain incorrect data."
   ]
  },
  {
   "cell_type": "code",
   "execution_count": null,
   "id": "4ef66a2d",
   "metadata": {},
   "outputs": [],
   "source": [
    "google_clean = []\n",
    "already_added = []\n",
    "\n",
    "for app in google:\n",
    "    name = app[0]\n",
    "    n_reviews = float(app[3])\n",
    "    \n",
    "    if (n_reviews == reviews_max[name]) and (name not in already_added):\n",
    "        google_clean.append(app)\n",
    "        already_added.append(name)"
   ]
  },
  {
   "cell_type": "markdown",
   "id": "df9dafdb",
   "metadata": {},
   "source": [
    "Explore the Google dataset that excludes duplicates and incorrect data to see if the code we wrote performs as expected."
   ]
  },
  {
   "cell_type": "code",
   "execution_count": null,
   "id": "4d19af73",
   "metadata": {},
   "outputs": [],
   "source": [
    "explore_data(google_clean, 0, 3, True)"
   ]
  },
  {
   "cell_type": "markdown",
   "id": "26a96c37",
   "metadata": {},
   "source": [
    "## Removing Non-English Apps"
   ]
  },
  {
   "cell_type": "markdown",
   "id": "7611bd11",
   "metadata": {},
   "source": [
    "Define a function that scans a string for (more than 3) non-English characters (i.e. those with character numbers greater than 127).  Return false if it does, meaning the string contains more than enough non-english characters, otherwise return true.  Then test it."
   ]
  },
  {
   "cell_type": "code",
   "execution_count": null,
   "id": "e6f0b1f4",
   "metadata": {},
   "outputs": [],
   "source": [
    "def eng_str(string):\n",
    "    num_sp_char = 0\n",
    "\n",
    "    for char in string:\n",
    "        if ord(char) > 127:\n",
    "            num_sp_char += 1\n",
    "        \n",
    "    if num_sp_char > 3:\n",
    "        return False\n",
    "    else:\n",
    "        return True\n",
    "\n",
    "print(eng_str('Instagram'))\n",
    "print(eng_str('爱奇艺PPS -《欢乐颂2》电视剧热播'))\n",
    "print(eng_str('Docs To Go™ Free Office Suite'))\n",
    "print(eng_str('Instachat 😜'))"
   ]
  },
  {
   "cell_type": "markdown",
   "id": "ff516d3e",
   "metadata": {},
   "source": [
    "Use the `'eng_string()'` function to remove non-English named apps from both the Google and the Apple datasets.  Then explore the results to see how many rows remain."
   ]
  },
  {
   "cell_type": "code",
   "execution_count": null,
   "id": "ea274b6d",
   "metadata": {},
   "outputs": [],
   "source": [
    "google_eng = []\n",
    "apple_eng = []\n",
    "\n",
    "for app in google:\n",
    "    if eng_str(app[0]):\n",
    "        google_eng.append(app)\n",
    "    \n",
    "for app in apple:\n",
    "    if eng_str(app[0]):\n",
    "        apple_eng.append(app)\n",
    "        \n",
    "explore_data(google_eng, 0, 3, True)\n",
    "explore_data(apple_eng, 0, 3, True)"
   ]
  },
  {
   "cell_type": "markdown",
   "id": "152316c8",
   "metadata": {},
   "source": [
    "## Isolate Free Apps Only"
   ]
  },
  {
   "cell_type": "markdown",
   "id": "e4193702",
   "metadata": {},
   "source": [
    "Only keep apps that are free since that is our focus in this analysis.  New Google and Apple lists are then created for these.  The prices are kept as strings and not converted to `float` or `integer` types."
   ]
  },
  {
   "cell_type": "code",
   "execution_count": null,
   "id": "586eaf3f",
   "metadata": {},
   "outputs": [],
   "source": [
    "google_eng_free = []\n",
    "apple_eng_free = []\n",
    "\n",
    "for app in google_eng:\n",
    "    if app[7] == '0':\n",
    "        google_eng_free.append(app)\n",
    "        \n",
    "for app in apple_eng:\n",
    "    if app[4] == '0.0':\n",
    "        apple_eng_free.append(app)\n",
    "        \n",
    "print(len(google_eng_free))\n",
    "print(len(apple_eng_free))"
   ]
  },
  {
   "cell_type": "markdown",
   "id": "cbe6871b",
   "metadata": {},
   "source": [
    "The end goal of the company is to add an app to both the Google Play and the App Store markets.  Soo an app profile that fits both markets should be sought after.  \n",
    "To minimize risks and overhead, our validation strategy is as follows:  \n",
    "1. Build a minimal Android version of the app and add it to Google Play  \n",
    "2. If the app has a good response from users then develop it further  \n",
    "3. If the app is profitable after six months then build an iOS version of it and add it to the App Store"
   ]
  },
  {
   "cell_type": "markdown",
   "id": "5298a93e",
   "metadata": {},
   "source": [
    "First, to determine the most common genres in each market, frequency tables of the `'Genre'`, `'Category'`, and `'prime_genre'` can be used.  The `freq_table()` function takes a dataset and an index as parameters and returns a frequency table whose values are percentages, sorted in descending order.  The `display_table()` function does this sorting and prints the results. "
   ]
  },
  {
   "cell_type": "code",
   "execution_count": null,
   "id": "727207d3",
   "metadata": {},
   "outputs": [],
   "source": [
    "def display_table(dataset, index):\n",
    "    table = freq_table(dataset, index)\n",
    "    table_display = []\n",
    "    for key in table:\n",
    "        key_val_as_tuple = (table[key], key)\n",
    "        table_display.append(key_val_as_tuple)\n",
    "\n",
    "    table_sorted = sorted(table_display, reverse = True)\n",
    "    for entry in table_sorted:\n",
    "        print(entry[1], ':', entry[0])\n",
    "        \n",
    "def freq_table(dataset, index):\n",
    "    d = {}\n",
    "    for row in dataset:\n",
    "        if row[index] in d:\n",
    "            d[row[index]] += 1\n",
    "        else:\n",
    "            d[row[index]] = 1\n",
    "            \n",
    "    d_percent = {}\n",
    "    for key in d:\n",
    "        percent = (d[key] / len(dataset)) * 100\n",
    "        d_percent[key] = percent\n",
    "        \n",
    "    return d_percent\n",
    "        \n",
    "display_table(apple_eng_free, 11)"
   ]
  },
  {
   "cell_type": "code",
   "execution_count": null,
   "id": "a08b7959",
   "metadata": {},
   "outputs": [],
   "source": [
    "display_table(google_eng_free, 9)"
   ]
  },
  {
   "cell_type": "code",
   "execution_count": null,
   "id": "2702312a",
   "metadata": {},
   "outputs": [],
   "source": [
    "display_table(google_eng_free, 1)"
   ]
  },
  {
   "cell_type": "markdown",
   "id": "d4d331fd",
   "metadata": {},
   "source": [
    "## Analysis of Apple Apps\n",
    "* The most common genre of free English apps at the Apple App Store is Games followed by Entertainment.\n",
    "* Games consist of the vast majority of free English apps at 56%, Entertainment is at 8%, and the remaining categories are all low percentages.\n",
    "* Most of the apps are for entertainment (gaming, entertainment, photo & video, social networking) and less are for practical purposes (education, shopping, utilization).\n",
    "* A gaming, entertainment, or social networking app may be good for us to add to the App Store.  Although there is a very large percentage of games already available, so there is existing competition.  However, even though there is a large number of gaming apps, that does not imply there is a large number of users.  There could be many games with few or no users at all.  Whereas social networking apps are few in numbers, but the number of users could be very large."
   ]
  },
  {
   "cell_type": "markdown",
   "id": "f98cdc00",
   "metadata": {},
   "source": [
    "## Analysis of Google Apps\n",
    "* The most common genre of free English apps at the Google Play Store is Tools (followed by Entertainment).\n",
    "* Unlike Apple apps where games dominate the market, Google apps are spread out much more among different genres.  Also unlike Apple apps where most are for entertainment purposes, Google apps are more for practical purposes.  For example, tools, education, business, and productivity are abundant in the Google Play Store.\n",
    "* The frequency tables reveal the most frequent app genres, not necessarily the genres with the most users."
   ]
  },
  {
   "cell_type": "markdown",
   "id": "6325ae3e",
   "metadata": {},
   "source": [
    "The average number of user ratings per genre of apps on the Apple App Store is calculated and shown below."
   ]
  },
  {
   "cell_type": "code",
   "execution_count": null,
   "id": "20f6fa36",
   "metadata": {},
   "outputs": [],
   "source": [
    "uniq_prime_genre = freq_table(apple_eng_free, 11)\n",
    "\n",
    "total = 0\n",
    "len_genre = 0\n",
    "\n",
    "for genre in uniq_prime_genre:\n",
    "    \n",
    "    for app in apple_eng_free:\n",
    "        genre_app = app[11]\n",
    "    \n",
    "        if genre_app == genre:\n",
    "            total += float(app[5])\n",
    "            len_genre += 1\n",
    "            \n",
    "    avg_ratings_num = total / len_genre\n",
    "    print(genre + \": \" + str(avg_ratings_num))"
   ]
  },
  {
   "cell_type": "code",
   "execution_count": null,
   "id": "d0a034e0",
   "metadata": {},
   "outputs": [],
   "source": [
    "uniq_category = freq_table(google_eng_free, 1)\n",
    "\n",
    "for category in uniq_category:\n",
    "    total = 0\n",
    "    len_category = 0\n",
    "    \n",
    "    for app in google_eng_free:\n",
    "        category_app = app[1]\n",
    "        \n",
    "        if category_app == category:\n",
    "            installs_0 = app[5].replace(\"+\", \"\")\n",
    "            installs_1 = installs_0.replace(\",\", \"\")\n",
    "            total += float(installs_1)\n",
    "            len_category += 1\n",
    "            \n",
    "    avg_installs = total / len_category\n",
    "    \n",
    "    print(category + \": \" + str(avg_installs))"
   ]
  }
 ],
 "metadata": {
  "kernelspec": {
   "display_name": "Python 3 (ipykernel)",
   "language": "python",
   "name": "python3"
  },
  "language_info": {
   "codemirror_mode": {
    "name": "ipython",
    "version": 3
   },
   "file_extension": ".py",
   "mimetype": "text/x-python",
   "name": "python",
   "nbconvert_exporter": "python",
   "pygments_lexer": "ipython3",
   "version": "3.9.12"
  }
 },
 "nbformat": 4,
 "nbformat_minor": 5
}
