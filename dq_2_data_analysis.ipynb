{
 "cells": [
  {
   "cell_type": "markdown",
   "id": "36ae12fe",
   "metadata": {},
   "source": [
    "# Exploring Hacker News Posts (Guided Project)"
   ]
  },
  {
   "cell_type": "markdown",
   "id": "a4f755b4",
   "metadata": {},
   "source": [
    "**Description:** [Hacker News](https://news.ycombinator.com) is a website by the startup incubator Y Combinator, where user-submitted stories (also known as \"posts\") receive votes and comments, similar to Reddit.  It is extremely popular in technology and startup circles, and posts that make it to the top of the listing can get hundreds of thousands of views.  \n",
    "\n",
    "We are specifically interested in the posts with titles that begin with `Ask HN` or `Show HN`.  `Ask HN` posts are those where specific questions are asked to the Hacker News community.  `Show HN` posts are those where projects, products, or anything else interesting is shared with the Hacker News community.\n",
    "\n",
    "We will work with the dataset described below to answer two questions:  \n",
    "\n",
    "1. Do `Ask HN` or `Show HN` posts receive more comments (on average)?\n",
    "2. Do posts created at a certain time receive more comments (on average)?\n",
    "\n",
    "**Dataset:** The dataset consists of information related to submissions (posts) to Hacker News.  It was originally ~300,000 rows, but it got reduced to ~20,000 rows after removing all submissions that did not receive any comments and further randomly sampling the remaining submissions.  There are 7 fields (columns) in total, and examples include `id`, `num_points`, `num_comments`, and `created_at`.  More details can be found [here](https://www.kaggle.com/datasets/hacker-news/hacker-news-posts)."
   ]
  },
  {
   "cell_type": "code",
   "execution_count": null,
   "id": "3d2be717",
   "metadata": {},
   "outputs": [],
   "source": [
    "# Open the csv file and read it in as a list of lists\n",
    "from csv import reader\n",
    "\n",
    "opened_file = open('_data/HN_posts_year_to_Sep_26_2016.csv')\n",
    "read_file = reader(opened_file)\n",
    "hn = list(read_file)\n",
    "\n",
    "# Display the first five rows of the dataset\n",
    "print(\"Below are the first five rows of the data:\\n\")\n",
    "print(hn[:5])"
   ]
  },
  {
   "cell_type": "markdown",
   "id": "c58e6ec7",
   "metadata": {},
   "source": [
    "In order to analyze the data, the headers in the first row are separated."
   ]
  },
  {
   "cell_type": "code",
   "execution_count": null,
   "id": "3d4f62f5",
   "metadata": {},
   "outputs": [],
   "source": [
    "# Field names (i.e. headers) are split out from the rest of the dataset\n",
    "headers = hn[0]\n",
    "hn = hn[1:]\n",
    "\n",
    "# Print headers and then two rows of data to confirm\n",
    "print(\"Below are the headers:\\n\")\n",
    "print(headers)\n",
    "print(\"\\nBelow are the first two rows of the data:\\n\")\n",
    "print(hn[:2])"
   ]
  },
  {
   "cell_type": "markdown",
   "id": "b56a045e",
   "metadata": {},
   "source": [
    "We are only interested in posts that begin with `Ask HN` or `Show HN` (as mentioned at the beginning of this project).  Thus, two lists are created for the data containing only those titles."
   ]
  },
  {
   "cell_type": "code",
   "execution_count": null,
   "id": "1b5353ed",
   "metadata": {},
   "outputs": [],
   "source": [
    "ask_posts = []\n",
    "show_posts = []\n",
    "other_posts = []\n",
    "\n",
    "# Append rows of the posts that start with 'ask hn' to the ask_posts list, and append rows\n",
    "# of the posts that start with 'show hn' to the show_posts list.\n",
    "# Use the `lower` method to convert string to all lowercase.\n",
    "for row in hn:\n",
    "    title = row[1]\n",
    "    \n",
    "    if title.lower().startswith('ask hn'):\n",
    "        ask_posts.append(row)\n",
    "    elif title.lower().startswith('show hn'):\n",
    "        show_posts.append(row)\n",
    "    else:\n",
    "        other_posts.append(row)\n",
    "        \n",
    "# Check the number of posts of each type\n",
    "print(\"The number of Ask HN posts is:\", len(ask_posts))\n",
    "print(\"The number of Show HN posts is:\", len(show_posts))\n",
    "print(\"The number of other posts is:\", len(other_posts))"
   ]
  },
  {
   "cell_type": "code",
   "execution_count": null,
   "id": "d1789722",
   "metadata": {},
   "outputs": [],
   "source": [
    "# Calculate average number of comments in Ask HN posts\n",
    "total_ask_comments = 0\n",
    "\n",
    "for ask in ask_posts:\n",
    "    num_comments = ask[4]\n",
    "    total_ask_comments += int(num_comments)\n",
    "    \n",
    "avg_ask_comments = total_ask_comments / len(ask_posts)\n",
    "    \n",
    "print(\"The average number of comments in Ask HN posts is:\", round(avg_ask_comments, 1))\n",
    "\n",
    "# Calculate average number of comments in Show HN posts\n",
    "total_show_comments = 0\n",
    "\n",
    "for show in show_posts:\n",
    "    num_comments = show[4]\n",
    "    total_show_comments += int(num_comments)\n",
    "    \n",
    "avg_show_comments = total_show_comments / len(show_posts)\n",
    "\n",
    "print(\"The average number of comments in Show HN posts is:\", round(avg_show_comments, 1))"
   ]
  },
  {
   "cell_type": "markdown",
   "id": "b25f07b8",
   "metadata": {},
   "source": [
    "**Ask HN posts receive more comments** per post on average (about 10) than Show HN posts (about 5).  This makes sense since Ask HN posts are for those seeking answers to specific question(s), whereas Show HN posts do not necessarily require input from others.  This does not necessarily mean that Ask HN posts are more popular than Show HN posts however."
   ]
  },
  {
   "cell_type": "markdown",
   "id": "07d0f55e",
   "metadata": {},
   "source": [
    "Next we turn our attention to only `Ask HN` posts, since they are more likely to receive comments than `Show HN` posts. In particular, we look at the number of posts and the number comments by hour of day, and calculate the average number of comments per post by hour of day."
   ]
  },
  {
   "cell_type": "code",
   "execution_count": null,
   "id": "f8d8055f",
   "metadata": {},
   "outputs": [],
   "source": [
    "import datetime as dt\n",
    "\n",
    "result_list = []\n",
    "\n",
    "for ask in ask_posts:\n",
    "    created_at = ask[6]\n",
    "    num_comments = int(ask[4])\n",
    "    \n",
    "    result_list.append([created_at, num_comments])\n",
    "\n",
    "counts_by_hour = {}\n",
    "comments_by_hour = {}\n",
    "\n",
    "for result in result_list:\n",
    "    date_time_str = result[0]\n",
    "    # Turn datetime string into datetime object\n",
    "    date_time_obj = dt.datetime.strptime(date_time_str, \"%m/%d/%Y %H:%M\")\n",
    "    # Extract just the hour of datetime object\n",
    "    hour = dt.datetime.strftime(date_time_obj, \"%H\")\n",
    "    # Get number of comments in the post for the following if statements\n",
    "    num_comments = int(result[1])\n",
    "    \n",
    "    # Count the number of Ask HN posts and the number of Ask HN comments, in separate dictionaries, by hour\n",
    "    if hour not in counts_by_hour:\n",
    "        counts_by_hour[hour] = 1\n",
    "        comments_by_hour[hour] = num_comments\n",
    "    if hour in counts_by_hour:\n",
    "        counts_by_hour[hour] += 1\n",
    "        comments_by_hour[hour] += num_comments"
   ]
  },
  {
   "cell_type": "code",
   "execution_count": null,
   "id": "fe597a1d",
   "metadata": {},
   "outputs": [],
   "source": [
    "avg_by_hour = []\n",
    "\n",
    "# Calculate the average number of comments per Ask HN post by hour\n",
    "for hour in counts_by_hour:\n",
    "    comments_per_post = comments_by_hour[hour] / counts_by_hour[hour]\n",
    "    avg_by_hour.append([hour, round(comments_per_post, 1)])\n",
    "    \n",
    "print(\"Below is the average number of comments per Ask HN post by hour: \\n\")\n",
    "print(avg_by_hour)"
   ]
  },
  {
   "cell_type": "markdown",
   "id": "c92a02ee",
   "metadata": {},
   "source": [
    "To make the above output cleaner and to summarize it, we wrote the below code to print the top 5 hours of average comments per `Ask HN` post (as well as the average number of comments per post)."
   ]
  },
  {
   "cell_type": "code",
   "execution_count": null,
   "id": "b0a2f07f",
   "metadata": {},
   "outputs": [],
   "source": [
    "swap_avg_by_hour = []\n",
    "\n",
    "# To sort in descending order, first swap the elements of the list (i.e. exchange the order)\n",
    "for row in avg_by_hour:\n",
    "    swap_avg_by_hour.append([row[1], row[0]])\n",
    "    \n",
    "# Sort in descending order\n",
    "sorted_swap = sorted(swap_avg_by_hour, reverse=True)\n",
    "\n",
    "# Print top 5 hours of average comments per post\n",
    "print(\"Top 5 Hours for Ask HN Posts Comments:\\n\")\n",
    "\n",
    "for row in sorted_swap[:5]:\n",
    "    hour_str = row[1]\n",
    "    hour_dt = dt.datetime.strptime(hour_str, \"%H\")\n",
    "    hour_dt = dt.datetime.strftime(hour_dt, \"%H:%M\")\n",
    "    print(hour_dt,\"- \", row[0], \"average comments per post\")"
   ]
  },
  {
   "cell_type": "markdown",
   "id": "4045ed14",
   "metadata": {},
   "source": [
    "As noted in the [documentation](https://www.kaggle.com/datasets/hacker-news/hacker-news-posts), Eastern post times are used, so **3pm EST** and **1pm EST** are the times when `Ask HN` posts can have a **higher** chance of receiving answers/comments.  In particular, the average number of comments per post between 3pm EST and 4pm EST is ~29 and the average number of comments per post between 1pm EST and 2pm EST is ~16.  This makes sense because afternoons are likely when many people take various breaks from work and browse their favorite forums."
   ]
  },
  {
   "cell_type": "markdown",
   "id": "1065f46d",
   "metadata": {},
   "source": [
    "## Conclusion\n",
    "In this guided project, we worked with the Hacker News submissions dataset to answer two questions below:  \n",
    "* Do `Ask HN` or `Show HN` posts receive more comments (on average)?  \n",
    "    *Answer*: We found that on average, `Ask HN` posts receive  ~10 comments per post, wheras `Show HN` posts receive about half of that (around 5 comments per post).  \n",
    "    \n",
    "    \n",
    "* Do `Ask HN` posts created at a certain time receive more comments (on average)?  \n",
    "    *Answer*: We found that afternoons are when `Ask HN` posts receive the most comments, on average.  Specifically, the average number of comments per post between 3pm and 4pm EST is 29, and the average number of comments per post between 1pm and 2pm EST is 16.  The remaining hours in the day have less than 12 comments per post (again, on average)."
   ]
  }
 ],
 "metadata": {
  "kernelspec": {
   "display_name": "Python 3 (ipykernel)",
   "language": "python",
   "name": "python3"
  },
  "language_info": {
   "codemirror_mode": {
    "name": "ipython",
    "version": 3
   },
   "file_extension": ".py",
   "mimetype": "text/x-python",
   "name": "python",
   "nbconvert_exporter": "python",
   "pygments_lexer": "ipython3",
   "version": "3.9.12"
  }
 },
 "nbformat": 4,
 "nbformat_minor": 5
}
